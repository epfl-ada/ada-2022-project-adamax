{
   "cells": [
      {
         "cell_type": "markdown",
         "metadata": {},
         "source": [
            "# ADAmax Milestone 2"
         ]
      },
      {
         "cell_type": "markdown",
         "metadata": {},
         "source": [
            "In this notebook we briefly describe the data. Then we present the first analysis of tvtropes effect and competition effect. Those two part are to confirm our project is doable and how we will handle our research question. At last we present our attempt to analyse the movie plots based on an NLP model."
         ]
      },
      {
         "cell_type": "markdown",
         "metadata": {},
         "source": [
            "Structure of the respository:\n",
            "\n",
            "\n",
            " - data/\n",
            "      - Imdb/\n",
            "      - MovieSummaries/\n",
            " - src/\n",
            "      - initial_analysis.ipynb\n",
            "      - helpers.py\n",
            "      - preprocess.py"
         ]
      },
      {
         "cell_type": "markdown",
         "metadata": {},
         "source": [
            "## The Big Flop"
         ]
      },
      {
         "cell_type": "markdown",
         "metadata": {},
         "source": [
            "### Initial preprocess (only run once)"
         ]
      },
      {
         "cell_type": "markdown",
         "metadata": {},
         "source": [
            "The preprocess works like this:\n",
            "  - One of the movie has a released date in 1010 and that is not possible. After checking on the web, the released date was in 2010.\n",
            "  - To take into account the inflation, we create the features **adj_budjet**, **adj_revenue**, ... that are the the values of budget and revenue ajusted with the inflation. "
         ]
      },
      {
         "cell_type": "code",
         "execution_count": 153,
         "metadata": {},
         "outputs": [],
         "source": [
            "# from preprocess import preprocess\n",
            "\n",
            "# preprocess()"
         ]
      },
      {
         "cell_type": "markdown",
         "metadata": {},
         "source": [
            "### Getting the data"
         ]
      },
      {
         "cell_type": "code",
         "execution_count": 184,
         "metadata": {},
         "outputs": [],
         "source": [
            "# Import libraries\n",
            "import pandas as pd\n",
            "import numpy as np\n",
            "import matplotlib.pyplot as plt\n",
            "import statsmodels.api as sm\n",
            "import pickle\n",
            "import ipywidgets as widgets\n",
            "import geopandas\n",
            "\n",
            "from tqdm import tqdm\n",
            "from scipy.stats import bootstrap\n",
            "from sklearn.decomposition import PCA\n",
            "from helpers import *\n",
            "from IPython.display import display\n",
            "\n",
            "import warnings\n",
            "warnings.filterwarnings(\"ignore\")"
         ]
      },
      {
         "cell_type": "markdown",
         "metadata": {},
         "source": [
            "In the CMU dataset, we have basic features like revenue, movie titles, genres, etc. In the IMDb dataset, there are a lot of additional features like budget, producer information, and user ratings.\n",
            "\n",
            "Initially, there is no common key (column to merge) for the two datasets. Fortunately, for almost all of the Freebase IDs, we were able to find corresponding IMDb IDs.\n",
            "\n",
            "In this notebook, we only consider the merged dataset (and any of its derivations).\n",
            "\n",
            "There are features with the same name in both datasets, but they are not identical in values. For example, the movie runtimes can be different between the two datasets."
         ]
      },
      {
         "cell_type": "code",
         "execution_count": 194,
         "metadata": {},
         "outputs": [
            {
               "data": {
                  "text/html": [
                     "<div>\n",
                     "<style scoped>\n",
                     "    .dataframe tbody tr th:only-of-type {\n",
                     "        vertical-align: middle;\n",
                     "    }\n",
                     "\n",
                     "    .dataframe tbody tr th {\n",
                     "        vertical-align: top;\n",
                     "    }\n",
                     "\n",
                     "    .dataframe thead th {\n",
                     "        text-align: right;\n",
                     "    }\n",
                     "</style>\n",
                     "<table border=\"1\" class=\"dataframe\">\n",
                     "  <thead>\n",
                     "    <tr style=\"text-align: right;\">\n",
                     "      <th></th>\n",
                     "      <th>wiki_id</th>\n",
                     "      <th>freebase_id</th>\n",
                     "      <th>name</th>\n",
                     "      <th>box_office_revenue</th>\n",
                     "      <th>runtime_x</th>\n",
                     "      <th>languages</th>\n",
                     "      <th>countries</th>\n",
                     "      <th>adj_revenue_x</th>\n",
                     "      <th>imdb_id</th>\n",
                     "      <th>adult</th>\n",
                     "      <th>...</th>\n",
                     "      <th>title</th>\n",
                     "      <th>video</th>\n",
                     "      <th>vote_average</th>\n",
                     "      <th>vote_count</th>\n",
                     "      <th>adj_revenue_y</th>\n",
                     "      <th>adj_budget</th>\n",
                     "      <th>adj_profit</th>\n",
                     "      <th>genres</th>\n",
                     "      <th>year</th>\n",
                     "      <th>release_date</th>\n",
                     "    </tr>\n",
                     "  </thead>\n",
                     "  <tbody>\n",
                     "    <tr>\n",
                     "      <th>0</th>\n",
                     "      <td>975900</td>\n",
                     "      <td>/m/03vyhn</td>\n",
                     "      <td>Ghosts of Mars</td>\n",
                     "      <td>14010832.0</td>\n",
                     "      <td>98.0</td>\n",
                     "      <td>{\"/m/02h40lc\": \"English Language\"}</td>\n",
                     "      <td>{\"/m/09c7w0\": \"United States of America\"}</td>\n",
                     "      <td>2.143713e+07</td>\n",
                     "      <td>tt0228333</td>\n",
                     "      <td>False</td>\n",
                     "      <td>...</td>\n",
                     "      <td>Ghosts of Mars</td>\n",
                     "      <td>False</td>\n",
                     "      <td>4.8</td>\n",
                     "      <td>299.0</td>\n",
                     "      <td>2.143713e+07</td>\n",
                     "      <td>4.284111e+07</td>\n",
                     "      <td>-2.140398e+07</td>\n",
                     "      <td>{Horror, Supernatural, Science Fiction, Space ...</td>\n",
                     "      <td>2001.0</td>\n",
                     "      <td>2001-08-24</td>\n",
                     "    </tr>\n",
                     "    <tr>\n",
                     "      <th>1</th>\n",
                     "      <td>9363483</td>\n",
                     "      <td>/m/0285_cd</td>\n",
                     "      <td>White Of The Eye</td>\n",
                     "      <td>NaN</td>\n",
                     "      <td>110.0</td>\n",
                     "      <td>{\"/m/02h40lc\": \"English Language\"}</td>\n",
                     "      <td>{\"/m/07ssc\": \"United Kingdom\"}</td>\n",
                     "      <td>NaN</td>\n",
                     "      <td>tt0094320</td>\n",
                     "      <td>False</td>\n",
                     "      <td>...</td>\n",
                     "      <td>White of the Eye</td>\n",
                     "      <td>False</td>\n",
                     "      <td>5.7</td>\n",
                     "      <td>15.0</td>\n",
                     "      <td>0.000000e+00</td>\n",
                     "      <td>0.000000e+00</td>\n",
                     "      <td>0.000000e+00</td>\n",
                     "      <td>{Erotic thriller, Horror, Psychological thrill...</td>\n",
                     "      <td>1987.0</td>\n",
                     "      <td>1987-01-01</td>\n",
                     "    </tr>\n",
                     "    <tr>\n",
                     "      <th>2</th>\n",
                     "      <td>6631279</td>\n",
                     "      <td>/m/0gffwj</td>\n",
                     "      <td>Little city</td>\n",
                     "      <td>NaN</td>\n",
                     "      <td>93.0</td>\n",
                     "      <td>{\"/m/02h40lc\": \"English Language\"}</td>\n",
                     "      <td>{\"/m/09c7w0\": \"United States of America\"}</td>\n",
                     "      <td>NaN</td>\n",
                     "      <td>tt0119548</td>\n",
                     "      <td>False</td>\n",
                     "      <td>...</td>\n",
                     "      <td>Little City</td>\n",
                     "      <td>False</td>\n",
                     "      <td>6.0</td>\n",
                     "      <td>1.0</td>\n",
                     "      <td>0.000000e+00</td>\n",
                     "      <td>0.000000e+00</td>\n",
                     "      <td>0.000000e+00</td>\n",
                     "      <td>{Comedy, Drama, Romance Film, Romantic drama, ...</td>\n",
                     "      <td>1997.0</td>\n",
                     "      <td>1997-04-04</td>\n",
                     "    </tr>\n",
                     "  </tbody>\n",
                     "</table>\n",
                     "<p>3 rows × 36 columns</p>\n",
                     "</div>"
                  ],
                  "text/plain": [
                     "   wiki_id freebase_id              name  box_office_revenue  runtime_x  \\\n",
                     "0   975900   /m/03vyhn    Ghosts of Mars          14010832.0       98.0   \n",
                     "1  9363483  /m/0285_cd  White Of The Eye                 NaN      110.0   \n",
                     "2  6631279   /m/0gffwj       Little city                 NaN       93.0   \n",
                     "\n",
                     "                            languages  \\\n",
                     "0  {\"/m/02h40lc\": \"English Language\"}   \n",
                     "1  {\"/m/02h40lc\": \"English Language\"}   \n",
                     "2  {\"/m/02h40lc\": \"English Language\"}   \n",
                     "\n",
                     "                                   countries  adj_revenue_x    imdb_id  adult  \\\n",
                     "0  {\"/m/09c7w0\": \"United States of America\"}   2.143713e+07  tt0228333  False   \n",
                     "1             {\"/m/07ssc\": \"United Kingdom\"}            NaN  tt0094320  False   \n",
                     "2  {\"/m/09c7w0\": \"United States of America\"}            NaN  tt0119548  False   \n",
                     "\n",
                     "   ...             title  video vote_average vote_count adj_revenue_y  \\\n",
                     "0  ...    Ghosts of Mars  False          4.8      299.0  2.143713e+07   \n",
                     "1  ...  White of the Eye  False          5.7       15.0  0.000000e+00   \n",
                     "2  ...       Little City  False          6.0        1.0  0.000000e+00   \n",
                     "\n",
                     "     adj_budget    adj_profit  \\\n",
                     "0  4.284111e+07 -2.140398e+07   \n",
                     "1  0.000000e+00  0.000000e+00   \n",
                     "2  0.000000e+00  0.000000e+00   \n",
                     "\n",
                     "                                              genres    year release_date  \n",
                     "0  {Horror, Supernatural, Science Fiction, Space ...  2001.0   2001-08-24  \n",
                     "1  {Erotic thriller, Horror, Psychological thrill...  1987.0   1987-01-01  \n",
                     "2  {Comedy, Drama, Romance Film, Romantic drama, ...  1997.0   1997-04-04  \n",
                     "\n",
                     "[3 rows x 36 columns]"
                  ]
               },
               "metadata": {},
               "output_type": "display_data"
            },
            {
               "data": {
                  "text/html": [
                     "<div>\n",
                     "<style scoped>\n",
                     "    .dataframe tbody tr th:only-of-type {\n",
                     "        vertical-align: middle;\n",
                     "    }\n",
                     "\n",
                     "    .dataframe tbody tr th {\n",
                     "        vertical-align: top;\n",
                     "    }\n",
                     "\n",
                     "    .dataframe thead th {\n",
                     "        text-align: right;\n",
                     "    }\n",
                     "</style>\n",
                     "<table border=\"1\" class=\"dataframe\">\n",
                     "  <thead>\n",
                     "    <tr style=\"text-align: right;\">\n",
                     "      <th></th>\n",
                     "      <th>wiki_id</th>\n",
                     "      <th>box_office_revenue</th>\n",
                     "      <th>runtime_x</th>\n",
                     "      <th>adj_revenue_x</th>\n",
                     "      <th>revenue</th>\n",
                     "      <th>runtime_y</th>\n",
                     "      <th>vote_average</th>\n",
                     "      <th>vote_count</th>\n",
                     "      <th>adj_revenue_y</th>\n",
                     "      <th>adj_budget</th>\n",
                     "      <th>adj_profit</th>\n",
                     "      <th>year</th>\n",
                     "    </tr>\n",
                     "  </thead>\n",
                     "  <tbody>\n",
                     "    <tr>\n",
                     "      <th>count</th>\n",
                     "      <td>2.601100e+04</td>\n",
                     "      <td>6.953000e+03</td>\n",
                     "      <td>24768.000000</td>\n",
                     "      <td>6.925000e+03</td>\n",
                     "      <td>2.601100e+04</td>\n",
                     "      <td>25990.000000</td>\n",
                     "      <td>26011.000000</td>\n",
                     "      <td>26011.000000</td>\n",
                     "      <td>2.591300e+04</td>\n",
                     "      <td>2.591300e+04</td>\n",
                     "      <td>2.591300e+04</td>\n",
                     "      <td>25361.000000</td>\n",
                     "    </tr>\n",
                     "    <tr>\n",
                     "      <th>mean</th>\n",
                     "      <td>1.201912e+07</td>\n",
                     "      <td>5.177056e+07</td>\n",
                     "      <td>99.855045</td>\n",
                     "      <td>9.929178e+07</td>\n",
                     "      <td>1.411799e+07</td>\n",
                     "      <td>97.956907</td>\n",
                     "      <td>5.823440</td>\n",
                     "      <td>131.700896</td>\n",
                     "      <td>2.547546e+07</td>\n",
                     "      <td>8.693101e+06</td>\n",
                     "      <td>1.678236e+07</td>\n",
                     "      <td>1985.193052</td>\n",
                     "    </tr>\n",
                     "    <tr>\n",
                     "      <th>std</th>\n",
                     "      <td>1.068013e+07</td>\n",
                     "      <td>1.145230e+08</td>\n",
                     "      <td>28.824344</td>\n",
                     "      <td>2.471029e+08</td>\n",
                     "      <td>6.811600e+07</td>\n",
                     "      <td>31.965146</td>\n",
                     "      <td>1.591846</td>\n",
                     "      <td>533.528543</td>\n",
                     "      <td>1.326382e+08</td>\n",
                     "      <td>2.798300e+07</td>\n",
                     "      <td>1.195633e+08</td>\n",
                     "      <td>24.028646</td>\n",
                     "    </tr>\n",
                     "    <tr>\n",
                     "      <th>min</th>\n",
                     "      <td>3.217000e+03</td>\n",
                     "      <td>1.000000e+04</td>\n",
                     "      <td>0.000000</td>\n",
                     "      <td>1.242662e+04</td>\n",
                     "      <td>0.000000e+00</td>\n",
                     "      <td>0.000000</td>\n",
                     "      <td>0.000000</td>\n",
                     "      <td>0.000000</td>\n",
                     "      <td>0.000000e+00</td>\n",
                     "      <td>0.000000e+00</td>\n",
                     "      <td>-8.363272e+08</td>\n",
                     "      <td>1890.000000</td>\n",
                     "    </tr>\n",
                     "    <tr>\n",
                     "      <th>25%</th>\n",
                     "      <td>2.641520e+06</td>\n",
                     "      <td>2.604414e+06</td>\n",
                     "      <td>89.000000</td>\n",
                     "      <td>8.762023e+06</td>\n",
                     "      <td>0.000000e+00</td>\n",
                     "      <td>88.000000</td>\n",
                     "      <td>5.300000</td>\n",
                     "      <td>5.000000</td>\n",
                     "      <td>0.000000e+00</td>\n",
                     "      <td>0.000000e+00</td>\n",
                     "      <td>0.000000e+00</td>\n",
                     "      <td>1970.000000</td>\n",
                     "    </tr>\n",
                     "    <tr>\n",
                     "      <th>50%</th>\n",
                     "      <td>8.494848e+06</td>\n",
                     "      <td>1.282632e+07</td>\n",
                     "      <td>97.000000</td>\n",
                     "      <td>2.969312e+07</td>\n",
                     "      <td>0.000000e+00</td>\n",
                     "      <td>97.000000</td>\n",
                     "      <td>6.100000</td>\n",
                     "      <td>13.000000</td>\n",
                     "      <td>0.000000e+00</td>\n",
                     "      <td>0.000000e+00</td>\n",
                     "      <td>0.000000e+00</td>\n",
                     "      <td>1993.000000</td>\n",
                     "    </tr>\n",
                     "    <tr>\n",
                     "      <th>75%</th>\n",
                     "      <td>2.078840e+07</td>\n",
                     "      <td>4.661621e+07</td>\n",
                     "      <td>110.000000</td>\n",
                     "      <td>9.379987e+07</td>\n",
                     "      <td>0.000000e+00</td>\n",
                     "      <td>109.000000</td>\n",
                     "      <td>6.800000</td>\n",
                     "      <td>48.000000</td>\n",
                     "      <td>0.000000e+00</td>\n",
                     "      <td>0.000000e+00</td>\n",
                     "      <td>0.000000e+00</td>\n",
                     "      <td>2005.000000</td>\n",
                     "    </tr>\n",
                     "    <tr>\n",
                     "      <th>max</th>\n",
                     "      <td>3.737388e+07</td>\n",
                     "      <td>2.782275e+09</td>\n",
                     "      <td>1003.000000</td>\n",
                     "      <td>7.828022e+09</td>\n",
                     "      <td>2.787965e+09</td>\n",
                     "      <td>931.000000</td>\n",
                     "      <td>10.000000</td>\n",
                     "      <td>14075.000000</td>\n",
                     "      <td>7.801138e+09</td>\n",
                     "      <td>8.363272e+08</td>\n",
                     "      <td>7.723161e+09</td>\n",
                     "      <td>2016.000000</td>\n",
                     "    </tr>\n",
                     "  </tbody>\n",
                     "</table>\n",
                     "</div>"
                  ],
                  "text/plain": [
                     "            wiki_id  box_office_revenue     runtime_x  adj_revenue_x  \\\n",
                     "count  2.601100e+04        6.953000e+03  24768.000000   6.925000e+03   \n",
                     "mean   1.201912e+07        5.177056e+07     99.855045   9.929178e+07   \n",
                     "std    1.068013e+07        1.145230e+08     28.824344   2.471029e+08   \n",
                     "min    3.217000e+03        1.000000e+04      0.000000   1.242662e+04   \n",
                     "25%    2.641520e+06        2.604414e+06     89.000000   8.762023e+06   \n",
                     "50%    8.494848e+06        1.282632e+07     97.000000   2.969312e+07   \n",
                     "75%    2.078840e+07        4.661621e+07    110.000000   9.379987e+07   \n",
                     "max    3.737388e+07        2.782275e+09   1003.000000   7.828022e+09   \n",
                     "\n",
                     "            revenue     runtime_y  vote_average    vote_count  adj_revenue_y  \\\n",
                     "count  2.601100e+04  25990.000000  26011.000000  26011.000000   2.591300e+04   \n",
                     "mean   1.411799e+07     97.956907      5.823440    131.700896   2.547546e+07   \n",
                     "std    6.811600e+07     31.965146      1.591846    533.528543   1.326382e+08   \n",
                     "min    0.000000e+00      0.000000      0.000000      0.000000   0.000000e+00   \n",
                     "25%    0.000000e+00     88.000000      5.300000      5.000000   0.000000e+00   \n",
                     "50%    0.000000e+00     97.000000      6.100000     13.000000   0.000000e+00   \n",
                     "75%    0.000000e+00    109.000000      6.800000     48.000000   0.000000e+00   \n",
                     "max    2.787965e+09    931.000000     10.000000  14075.000000   7.801138e+09   \n",
                     "\n",
                     "         adj_budget    adj_profit          year  \n",
                     "count  2.591300e+04  2.591300e+04  25361.000000  \n",
                     "mean   8.693101e+06  1.678236e+07   1985.193052  \n",
                     "std    2.798300e+07  1.195633e+08     24.028646  \n",
                     "min    0.000000e+00 -8.363272e+08   1890.000000  \n",
                     "25%    0.000000e+00  0.000000e+00   1970.000000  \n",
                     "50%    0.000000e+00  0.000000e+00   1993.000000  \n",
                     "75%    0.000000e+00  0.000000e+00   2005.000000  \n",
                     "max    8.363272e+08  7.723161e+09   2016.000000  "
                  ]
               },
               "metadata": {},
               "output_type": "display_data"
            },
            {
               "data": {
                  "text/plain": [
                     "Index(['wiki_id', 'freebase_id', 'name', 'box_office_revenue', 'runtime_x',\n",
                     "       'languages', 'countries', 'adj_revenue_x', 'imdb_id', 'adult',\n",
                     "       'belongs_to_collection', 'budget', 'homepage', 'id',\n",
                     "       'original_language', 'original_title', 'overview', 'popularity',\n",
                     "       'poster_path', 'production_companies', 'production_countries',\n",
                     "       'revenue', 'runtime_y', 'spoken_languages', 'status', 'tagline',\n",
                     "       'title', 'video', 'vote_average', 'vote_count', 'adj_revenue_y',\n",
                     "       'adj_budget', 'adj_profit', 'genres', 'year', 'release_date'],\n",
                     "      dtype='object')"
                  ]
               },
               "execution_count": 194,
               "metadata": {},
               "output_type": "execute_result"
            }
         ],
         "source": [
            "# Get the movie dataframe (merged from CMU and IMDb)\n",
            "df_movies = get_movies()\n",
            "\n",
            "display(df_movies.head(3))\n",
            "display(df_movies.describe())\n",
            "df_movies.columns\n"
         ]
      },
      {
         "cell_type": "markdown",
         "metadata": {},
         "source": [
            "### Detection of the box-office bombs"
         ]
      },
      {
         "cell_type": "markdown",
         "metadata": {},
         "source": [
            "#### Using the list from tvtropes.org"
         ]
      },
      {
         "cell_type": "code",
         "execution_count": 156,
         "metadata": {},
         "outputs": [
            {
               "name": "stdout",
               "output_type": "stream",
               "text": [
                  "Among the 26011 in the IMDb dataset, 6614 have trope information\n",
                  "(25.4)%.\n",
                  "Out of those, 1351 are bombs (contain the trope 'BoxOfficeBomb')\n",
                  "(20.4%).\n"
               ]
            },
            {
               "data": {
                  "text/html": [
                     "<div>\n",
                     "<style scoped>\n",
                     "    .dataframe tbody tr th:only-of-type {\n",
                     "        vertical-align: middle;\n",
                     "    }\n",
                     "\n",
                     "    .dataframe tbody tr th {\n",
                     "        vertical-align: top;\n",
                     "    }\n",
                     "\n",
                     "    .dataframe thead th {\n",
                     "        text-align: right;\n",
                     "    }\n",
                     "</style>\n",
                     "<table border=\"1\" class=\"dataframe\">\n",
                     "  <thead>\n",
                     "    <tr style=\"text-align: right;\">\n",
                     "      <th></th>\n",
                     "      <th>wiki_id</th>\n",
                     "      <th>freebase_id</th>\n",
                     "      <th>name</th>\n",
                     "      <th>box_office_revenue</th>\n",
                     "      <th>runtime_x</th>\n",
                     "      <th>languages</th>\n",
                     "      <th>countries</th>\n",
                     "      <th>adj_revenue_x</th>\n",
                     "      <th>imdb_id</th>\n",
                     "      <th>adult</th>\n",
                     "      <th>...</th>\n",
                     "      <th>vote_average</th>\n",
                     "      <th>vote_count</th>\n",
                     "      <th>adj_revenue_y</th>\n",
                     "      <th>adj_budget</th>\n",
                     "      <th>adj_profit</th>\n",
                     "      <th>genres</th>\n",
                     "      <th>year</th>\n",
                     "      <th>release_date</th>\n",
                     "      <th>trope</th>\n",
                     "      <th>is_bomb_tvtropes</th>\n",
                     "    </tr>\n",
                     "  </thead>\n",
                     "  <tbody>\n",
                     "    <tr>\n",
                     "      <th>0</th>\n",
                     "      <td>975900</td>\n",
                     "      <td>/m/03vyhn</td>\n",
                     "      <td>Ghosts of Mars</td>\n",
                     "      <td>14010832.0</td>\n",
                     "      <td>98.0</td>\n",
                     "      <td>{\"/m/02h40lc\": \"English Language\"}</td>\n",
                     "      <td>{\"/m/09c7w0\": \"United States of America\"}</td>\n",
                     "      <td>2.143713e+07</td>\n",
                     "      <td>tt0228333</td>\n",
                     "      <td>False</td>\n",
                     "      <td>...</td>\n",
                     "      <td>4.8</td>\n",
                     "      <td>299.0</td>\n",
                     "      <td>2.143713e+07</td>\n",
                     "      <td>4.284111e+07</td>\n",
                     "      <td>-2.140398e+07</td>\n",
                     "      <td>{Horror, Supernatural, Science Fiction, Space ...</td>\n",
                     "      <td>2001.0</td>\n",
                     "      <td>2001-08-24</td>\n",
                     "      <td>[bigbad, takethat, deadpansnarker, unreliablev...</td>\n",
                     "      <td>True</td>\n",
                     "    </tr>\n",
                     "    <tr>\n",
                     "      <th>1</th>\n",
                     "      <td>77856</td>\n",
                     "      <td>/m/0kcn7</td>\n",
                     "      <td>Mary Poppins</td>\n",
                     "      <td>102272727.0</td>\n",
                     "      <td>139.0</td>\n",
                     "      <td>{\"/m/02h40lc\": \"English Language\"}</td>\n",
                     "      <td>{\"/m/09c7w0\": \"United States of America\"}</td>\n",
                     "      <td>8.939626e+08</td>\n",
                     "      <td>tt0058331</td>\n",
                     "      <td>False</td>\n",
                     "      <td>...</td>\n",
                     "      <td>7.4</td>\n",
                     "      <td>1217.0</td>\n",
                     "      <td>8.939626e+08</td>\n",
                     "      <td>5.244581e+07</td>\n",
                     "      <td>8.415168e+08</td>\n",
                     "      <td>{Comedy, Drama, Musical, Children's/Family, Ch...</td>\n",
                     "      <td>1964.0</td>\n",
                     "      <td>1964-08-27</td>\n",
                     "      <td>[bigbad, thestraightwillandgrace, onehitwonder...</td>\n",
                     "      <td>True</td>\n",
                     "    </tr>\n",
                     "    <tr>\n",
                     "      <th>2</th>\n",
                     "      <td>9548445</td>\n",
                     "      <td>/m/02pjlrp</td>\n",
                     "      <td>Archie: To Riverdale and Back Again</td>\n",
                     "      <td>NaN</td>\n",
                     "      <td>100.0</td>\n",
                     "      <td>{\"/m/02h40lc\": \"English Language\"}</td>\n",
                     "      <td>{\"/m/09c7w0\": \"United States of America\"}</td>\n",
                     "      <td>NaN</td>\n",
                     "      <td>tt0099054</td>\n",
                     "      <td>False</td>\n",
                     "      <td>...</td>\n",
                     "      <td>5.5</td>\n",
                     "      <td>1.0</td>\n",
                     "      <td>0.000000e+00</td>\n",
                     "      <td>0.000000e+00</td>\n",
                     "      <td>0.000000e+00</td>\n",
                     "      <td>{Comedy, TV Movie}</td>\n",
                     "      <td>1990.0</td>\n",
                     "      <td>1990-05-06</td>\n",
                     "      <td>[sobaditsgood, slutshaming, shotgunwedding, co...</td>\n",
                     "      <td>False</td>\n",
                     "    </tr>\n",
                     "  </tbody>\n",
                     "</table>\n",
                     "<p>3 rows × 38 columns</p>\n",
                     "</div>"
                  ],
                  "text/plain": [
                     "   wiki_id freebase_id                                 name  \\\n",
                     "0   975900   /m/03vyhn                       Ghosts of Mars   \n",
                     "1    77856    /m/0kcn7                         Mary Poppins   \n",
                     "2  9548445  /m/02pjlrp  Archie: To Riverdale and Back Again   \n",
                     "\n",
                     "   box_office_revenue  runtime_x                           languages  \\\n",
                     "0          14010832.0       98.0  {\"/m/02h40lc\": \"English Language\"}   \n",
                     "1         102272727.0      139.0  {\"/m/02h40lc\": \"English Language\"}   \n",
                     "2                 NaN      100.0  {\"/m/02h40lc\": \"English Language\"}   \n",
                     "\n",
                     "                                   countries  adj_revenue_x    imdb_id  adult  \\\n",
                     "0  {\"/m/09c7w0\": \"United States of America\"}   2.143713e+07  tt0228333  False   \n",
                     "1  {\"/m/09c7w0\": \"United States of America\"}   8.939626e+08  tt0058331  False   \n",
                     "2  {\"/m/09c7w0\": \"United States of America\"}            NaN  tt0099054  False   \n",
                     "\n",
                     "   ... vote_average vote_count adj_revenue_y    adj_budget    adj_profit  \\\n",
                     "0  ...          4.8      299.0  2.143713e+07  4.284111e+07 -2.140398e+07   \n",
                     "1  ...          7.4     1217.0  8.939626e+08  5.244581e+07  8.415168e+08   \n",
                     "2  ...          5.5        1.0  0.000000e+00  0.000000e+00  0.000000e+00   \n",
                     "\n",
                     "                                              genres    year release_date  \\\n",
                     "0  {Horror, Supernatural, Science Fiction, Space ...  2001.0   2001-08-24   \n",
                     "1  {Comedy, Drama, Musical, Children's/Family, Ch...  1964.0   1964-08-27   \n",
                     "2                                 {Comedy, TV Movie}  1990.0   1990-05-06   \n",
                     "\n",
                     "                                               trope is_bomb_tvtropes  \n",
                     "0  [bigbad, takethat, deadpansnarker, unreliablev...             True  \n",
                     "1  [bigbad, thestraightwillandgrace, onehitwonder...             True  \n",
                     "2  [sobaditsgood, slutshaming, shotgunwedding, co...            False  \n",
                     "\n",
                     "[3 rows x 38 columns]"
                  ]
               },
               "execution_count": 156,
               "metadata": {},
               "output_type": "execute_result"
            }
         ],
         "source": [
            "import tropes\n",
            "# please download this file and provide a path to it before running this cell\n",
            "# https://github.com/rhgarcia/tropescraper/raw/master/datasets/tvtropes_20200302.json.zip\n",
            "df_tropes = tropes.merge_cmu_with_tvtropes(df_movies, tropes.get_tvtropes_movies(\"../data/tvtropes_20200302.json\"))\n",
            "df_tropes = tropes.add_bob_indicator(df_tropes)\n",
            "\n",
            "print(f\"\"\"Among the {len(df_movies)} in the IMDb dataset, {len(df_tropes)} have trope information\n",
            "({len(df_tropes)/len(df_movies)*100:.1f})%.\n",
            "Out of those, {df_tropes[\"is_bomb_tvtropes\"].sum()} are bombs (contain the trope 'BoxOfficeBomb')\n",
            "({df_tropes[\"is_bomb_tvtropes\"].sum()/len(df_tropes)*100:.1f}%).\"\"\")\n",
            "\n",
            "df_tropes.head(3)"
         ]
      },
      {
         "cell_type": "markdown",
         "metadata": {},
         "source": [
            "The variable `is_bomb_tvtropes` is one of the indicators of the failure of a movie. This is a good indicator as it is based on \"expert opinion\": tvtropes users, who has domain knowledge on the movie industry. However, we only know this information for a fraction of all the movies in our big dataset. "
         ]
      },
      {
         "cell_type": "markdown",
         "metadata": {},
         "source": [
            "#### Using the budget feature in IMDb datas"
         ]
      },
      {
         "cell_type": "markdown",
         "metadata": {},
         "source": [
            "We don't really know the real revenue of the production companies for each movies. But we know a proxy of it : the box office revenue. Therefore a creteria for beeing a box office bomb can be $revenue-budget<0$"
         ]
      },
      {
         "cell_type": "code",
         "execution_count": 157,
         "metadata": {},
         "outputs": [
            {
               "name": "stdout",
               "output_type": "stream",
               "text": [
                  "Among the 26011 in the IMDb dataset, 3312 are bombs.\n",
                  "    That represents 12.7% of the dataset\n",
                  "    And 12.8% of movies that we know the profit\n",
                  "\n"
               ]
            }
         ],
         "source": [
            "# Compute that criteria\n",
            "df_movies[\"is_bomb_profit\"] = df_movies[\"adj_profit\"] < 0\n",
            "\n",
            "print(f\"\"\"Among the {len(df_movies)} in the IMDb dataset, {df_movies[\"is_bomb_profit\"].sum()} are bombs.\n",
            "    That represents {df_movies[\"is_bomb_profit\"].sum()/len(df_movies)*100:.1f}% of the dataset\n",
            "    And {df_movies[\"is_bomb_profit\"].sum()/len(df_movies[~df_movies[\"adj_profit\"].isna()])*100:.1f}% of movies that we know the profit\n",
            "\"\"\")\n"
         ]
      },
      {
         "cell_type": "markdown",
         "metadata": {},
         "source": [
            "#### Using the reviews in IMDb datas"
         ]
      },
      {
         "cell_type": "markdown",
         "metadata": {},
         "source": [
            "We decide that a movie have bad reviews if its average review is lower than the 10% quantile of all average reviews"
         ]
      },
      {
         "cell_type": "code",
         "execution_count": 158,
         "metadata": {},
         "outputs": [
            {
               "name": "stdout",
               "output_type": "stream",
               "text": [
                  "Among the 26011 in the IMDb dataset, 2568 are bombs.\n",
                  "    That represents 9.9% of the dataset\n",
                  "    And 9.9% of movies that we know the average review \n",
                  "\n"
               ]
            }
         ],
         "source": [
            "df_movies[\"is_bomb_reviews\"] =  df_movies[\"vote_average\"] < df_movies[\"vote_average\"].quantile(0.1)\n",
            "\n",
            "print(f\"\"\"Among the {len(df_movies)} in the IMDb dataset, {df_movies[\"is_bomb_reviews\"].sum()} are bombs.\n",
            "    That represents {df_movies[\"is_bomb_reviews\"].sum()/len(df_movies)*100:.1f}% of the dataset\n",
            "    And {df_movies[\"is_bomb_reviews\"].sum()/len(df_movies[~df_movies[\"vote_average\"].isna()])*100:.1f}% of movies that we know the average review \n",
            "\"\"\")"
         ]
      },
      {
         "attachments": {},
         "cell_type": "markdown",
         "metadata": {},
         "source": [
            "#### Distribution of ratings by genre"
         ]
      },
      {
         "cell_type": "code",
         "execution_count": 159,
         "metadata": {},
         "outputs": [],
         "source": [
            "dict_similar = {\"Porn\": [\"Pornographic movie\", \"Pornography\", \"Softcore Porn\", \"Adult\", \"Sexploitation\", \"Erotica\"], \n",
            "                \"LGBT\": [\"New Queer Cinema\", \"Gay\", \"Homoeroticism\"],\n",
            "                \"Coming of age\": [\"Coming-of-age film\"], \"Erotica\": [\"Homoeroticism\"], \n",
            "                \"Comedy\": [\"Humour\", \"Tragicomedy\", \"Ealing Comedies\", \"Comdedy\", \"Adventure Comedy\", \"Commedy of manners\", \"Workplace comedy\"], \n",
            "                \"Language & Literature\": [\"& Literature\"], \n",
            "                \"Drama\": [\"Melodrama\", \"Tragedy\", \"Tragicomedy\", \"Docudrama\", \"Family drama\"], \n",
            "                \"Documentary\": [\"Political Documetary\", \"Docudrama\", \"Historical Documentaries\", \"Rockumentary\"], \n",
            "                \"Social issues\": [\"Social problem film\"], \n",
            "                \"War film\": [\"War effort\", \"The Netherlands in World War II\", \"Gulf War\", \"Combat Films\"],\n",
            "                \"Alien Film\": [\"Alien invasion\"],\n",
            "                \"Animation\": [\"Animated cartoon\"],\n",
            "                \"Family & Personal Relationships\": [\"Family Film\", \"Interpersonal Relationship\"],\n",
            "                \"Gross out\": [\"Gross-out Film\"],\n",
            "                \"Dance\": [\"Hip hop movies\", \"Breakdance\"],\n",
            "                \"History\": [\"Historical Documentaries\"],\n",
            "                \"Political cinema\": [\"Political Documentary\"],\n",
            "                \"Science Fiction\": [\"Sci Fi Picture original film\"],\n",
            "                \"Buddy film\": [\"Buddy Picture\", \"Buddy cop\"],\n",
            "                \"Music\": [\"Concert film\", \"Film-Opera\", \"Operetta\", \"Punk rock\", \"Rockumentary\", \"Space opera\"], #Should we add Musical here?\n",
            "                \"Animals\": [\"Animal Picture\"],\n",
            "                \"Religious Film\": [\"Christian film\", \"Cult\"],\n",
            "                \"Master Criminal Films\": [\"Heist\", \"Gangster Film\"],\n",
            "                \"Film à clé\": [\"Film \\\\u00e0 clef\"],\n",
            "                \"Biographical film\": [\"Biography\", \"Biopic [feature]\"],\n",
            "                \"Beach Film\": [\"Beach Party film\"],\n",
            "                \"World cinema\": [\"Chinese Movies\", \"Japanese Movies\", \"Latino\", \"\"],\n",
            "                \"Musical\": [\"Singing cowboy\"],\n",
            "                \"Western\": [\"Singing cowboy\", \"Westerns\", \"B-Western\", \"Epic Western\", \"Spaghetti Western\"],\n",
            "                \"Television Movie\": [\"TV Movie\"],\n",
            "                \"Horror\": [\"Natural Horror film\", \"Sci-fi Horror\"],\n",
            "                \"Historical\": [\"British History\", \"British Empire Film\", \"British new wave\", \"Historical Epic\", \"Cold War\"],\n",
            "                \"Monster\": [\"Creature Movie\", \"Monster Movie\", \"Creature\"],\n",
            "            }\n",
            "\n",
            "dict_similar_rev = dict()\n",
            "for key, value in dict_similar.items():\n",
            "    key = key.lower()\n",
            "    for v in value:\n",
            "        v = v.lower()\n",
            "        dict_similar_rev[v] = key\n",
            "    dict_similar_rev[key] = key\n",
            "\n",
            "def get_genre(set_genres):\n",
            "    new_genres = set()\n",
            "    for g in set_genres:\n",
            "        g = g.lower()\n",
            "        temp = True\n",
            "        for s_g in g.split(\" \"):\n",
            "            if s_g in dict_similar_rev.keys():\n",
            "                new_genres.add(dict_similar_rev[s_g])\n",
            "                temp = False\n",
            "        if temp:\n",
            "            if g in dict_similar_rev.keys():\n",
            "                new_genres.add(dict_similar_rev[g])\n",
            "            else:\n",
            "                new_genres.add(g)\n",
            "\n",
            "    return new_genres\n",
            "\n",
            "df_movies[\"genres\"] = df_movies[\"genres\"].apply(get_genre)"
         ]
      },
      {
         "cell_type": "code",
         "execution_count": 160,
         "metadata": {},
         "outputs": [
            {
               "name": "stdout",
               "output_type": "stream",
               "text": [
                  "We have in total 240 different genres\n",
                  "{'fan film', 'new hollywood', 'business', 'cavalry film', 'mockumentary', 'finance & investing', 'journalism', 'romance', 'action thrillers', 'escape film', 'feminist film', 'blaxploitation', 'culture & society', 'statutory rape', 'film', 'exploitation', 'documentary', 'apocalyptic and post-apocalyptic fiction', 'travel', 'revenge', 'supermarionation', 'heaven-can-wait fantasies', 'biographical film', 'bloopers & candid camera', 'americana', 'school story', 'inventions & innovations', 'comedy', 'archives and records', \"children's fantasy\", 'dystopia', 'sword and sandal', 'porn', 'sword and sorcery films', 'fairy tale', 'science fiction', 'kafkaesque', 'graphic & applied arts', 'adventure', 'period piece', 'western', 'sci-fi thriller', 'absurdism', 'romance film', 'hagiography', 'pre-code', 'private military company', 'epic', 'anthropology', 'sword and sorcery', 'thriller', 'tollywood', 'natural disaster', 'art film', 'juvenile delinquency film', 'prison', 'gross out', 'costume adventure', 'essay film', 'action', 'tamil cinema', 'caper story', 'parody', 'social issues', 'anti-war film', 'doomsday film', 'stop motion', 'filipino movies', 'women in prison films', 'master criminal films', 'alien film', 'kitchen sink realism', 'conspiracy fiction', 'gothic film', \"children's entertainment\", 'education', 'action/adventure', 'z movie', 'werewolf fiction', 'northern', 'swashbuckler films', 'outlaw biker film', 'expressionism', 'slice of life story', 'existentialism', 'short film', 'supernatural', 'romantic fantasy', 'future noir', 'foreign', 'time travel', 'nature', 'whodunit', 'haunted house film', 'comedy-drama', 'animation', 'martial arts film', 'political thriller', 'bengali cinema', 'detective fiction', 'slapstick', 'law & crime', 'avant-garde', 'roadshow theatrical release', 'erotica', 'superhero movie', 'anti-war', 'horse racing', 'race movie', 'dance', 'fantasy', 'mondo film', 'film noir', 'road movie', 'sci-fi adventure', 'malayalam cinema', 'cyberpunk', 'plague', 'tokusatsu', 'prison film', 'demonic child', 'point of view shot', 'media satire', 'mystery', 'disaster', 'anthology', 'family-oriented adventure', 'baseball', 'ninja movie', 'fictional film', 'biker film', 'world cinema', 'splatter film', 'extreme sports', 'chase movie', 'b-movie', 'christmas movie', 'language & literature', 'jungle film', 'foreign legion', 'news', 'dogme 95', 'sci fi pictures original films', 'libraries and librarians', 'teen', 'film à clef', 'star vehicle', 'neo-noir', 'suspense', 'satire', 'environmental science', 'zombie film', 'bruceploitation', 'crime', 'reboot', 'interpersonal relationships', 'steampunk', 'political cinema', 'ensemble film', 'spy', 'stoner film', 'fantasy adventure', 'boxing', 'airplanes and airports', 'movie serial', 'czechoslovak new wave', 'wuxia', 'mumblecore', 'goat gland', 'monster', 'albino bias', 'coming of age', 'roadshow/carny', 'auto racing', 'music', 'movies about gladiators', 'vampire movies', 'female buddy film', 'road-horror', 'lgbt', 'crime thriller', 'silent film', 'glamorized spy film', 'illnesses & disabilities', 'beach film', 'history', 'indie', 'medical fiction', 'detective', 'early black cinema', 'war film', 'holiday film', 'family & personal relationships', 'archaeology', 'educational', 'psycho-biddy', 'surrealism', 'media studies', 'political satire', 'television movie', 'black-and-white', 'gender issues', 'remake', \"children's/family\", 'nuclear warfare', 'feature film', 'live action', 'pinku eiga', 'filmed play', 'buddy film', 'outlaw', 'horror', 'crime fiction', 'experimental film', 'erotic thriller', 'bollywood', 'chick flick', 'drama', 'religious film', 'camp', 'sports', \"children's\", 'propaganda film', 'family', 'film adaptation', 'psychological thriller', 'health & fitness', 'historical', 'anime', 'parkour in popular culture', 'samurai cinema', 'musical', 'animals', 'superhero', 'computers', 'giallo', 'war', 'slasher', 'mythological fantasy', 'revisionist fairy tale'}\n"
               ]
            }
         ],
         "source": [
            "all_genres = set()\n",
            "\n",
            "for genres in df_movies[\"genres\"]:\n",
            "    all_genres.update(genres)\n",
            "\n",
            "print(\"We have in total\", len(all_genres), \"different genres\")\n",
            "print(all_genres)"
         ]
      },
      {
         "cell_type": "code",
         "execution_count": 161,
         "metadata": {},
         "outputs": [],
         "source": [
            "# Create a column for each genre\n",
            "for genre in all_genres:\n",
            "    df_movies[f\"is_{genre}\"] = df_movies[\"genres\"].apply(lambda x: genre in x)"
         ]
      },
      {
         "cell_type": "code",
         "execution_count": 162,
         "metadata": {},
         "outputs": [],
         "source": [
            "# genre rating\n",
            "genre_rates = dict()\n",
            "for genre in all_genres:\n",
            "    g_rates = df_movies[df_movies[f\"is_{genre}\"]][\"vote_average\"].values\n",
            "    if len(g_rates) < 1000:\n",
            "        continue\n",
            "    ci = bootstrap([g_rates], statistic=np.mean, n_resamples=1000).confidence_interval\n",
            "    genre_rates[genre] = np.mean(g_rates), ci.low, ci.high, g_rates\n",
            "\n"
         ]
      },
      {
         "cell_type": "code",
         "execution_count": 163,
         "metadata": {},
         "outputs": [
            {
               "name": "stdout",
               "output_type": "stream",
               "text": [
                  "(6.340318524727578, 6.2685666387259005, 6.406081994307508, array([6.7, 6.1, 5.4, ..., 7.5, 7. , 6.6]))\n"
               ]
            }
         ],
         "source": [
            "print(genre_rates[\"animation\"])"
         ]
      },
      {
         "cell_type": "code",
         "execution_count": 164,
         "metadata": {},
         "outputs": [
            {
               "data": {
                  "image/png": "[encoded data removed]",
                  "text/plain": [
                     "<Figure size 1000x500 with 1 Axes>"
                  ]
               },
               "metadata": {},
               "output_type": "display_data"
            }
         ],
         "source": [
            "# Plot the top 10 genres\n",
            "top10 = sorted(genre_rates.items(), key=lambda x: x[1][0], reverse=True)[:10]\n",
            "\n",
            "plt.figure(figsize=(10, 5))\n",
            "plt.violinplot([x[1][3] for x in top10], showmeans=True, showextrema=False)\n",
            "plt.xticks([1, 2, 3, 4, 5, 6, 7, 8, 9, 10], [x[0] for x in top10])\n",
            "# plt.bar([x[0] for x in top10], [x[1][0] for x in top10])\n",
            "plt.errorbar(list(range(1, 11)), [x[1][0] for x in top10], yerr=[[x[1][0]-x[1][1] for x in top10], [x[1][2]-x[1][0] for x in top10]], fmt='.', color='black')\n",
            "plt.xticks(rotation=45)\n",
            "plt.ylim(-1, 11)\n",
            "plt.title(\"Top 10 genres by mean rating\")\n",
            "plt.show()\n"
         ]
      },
      {
         "cell_type": "code",
         "execution_count": 165,
         "metadata": {},
         "outputs": [
            {
               "data": {
                  "image/png": "[encoded data removed]",
                  "text/plain": [
                     "<Figure size 1000x500 with 1 Axes>"
                  ]
               },
               "metadata": {},
               "output_type": "display_data"
            }
         ],
         "source": [
            "# Plot the bottom 10 genres\n",
            "bottom10 = sorted(genre_rates.items(), key=lambda x: x[1][0], reverse=False)[:10]\n",
            "\n",
            "plt.figure(figsize=(10, 5))\n",
            "plt.violinplot([x[1][3] for x in bottom10], showmeans=True, showextrema=False)\n",
            "plt.xticks([1, 2, 3, 4, 5, 6, 7, 8, 9, 10], [x[0] for x in bottom10])\n",
            "# plt.bar([x[0] for x in bottom10], [x[1][0] for x in bottom10], label=\"Average rating\")\n",
            "plt.errorbar(list(range(1, 11)), [x[1][0] for x in bottom10], yerr=[[x[1][0]-x[1][1] for x in bottom10], [x[1][2]-x[1][0] for x in bottom10]], fmt='o', color='black', label=\"95% confidence interval\")\n",
            "plt.xticks(rotation=45)\n",
            "plt.ylim(-1, 11)\n",
            "plt.title(\"Bottom 10 genres by mean rating\")\n",
            "plt.legend()\n",
            "plt.show()\n"
         ]
      },
      {
         "cell_type": "code",
         "execution_count": 150,
         "metadata": {},
         "outputs": [
            {
               "name": "stderr",
               "output_type": "stream",
               "text": [
                  "100%|██████████| 120/120 [01:58<00:00,  1.01it/s]\n"
               ]
            }
         ],
         "source": [
            "# Genre rating by year\n",
            "genre_rates_by_year = dict()\n",
            "for year in tqdm(range(1900, 2020)):\n",
            "    genre_rates_by_year[year] = dict()\n",
            "    for genre in all_genres:\n",
            "        g_rates = df_movies[(df_movies[f\"is_{genre}\"]) & (df_movies[\"year\"] <= year)][\"vote_average\"].values\n",
            "        if len(g_rates) < 10:\n",
            "            continue\n",
            "        ci = bootstrap([g_rates], statistic=np.mean, n_resamples=1000).confidence_interval\n",
            "        genre_rates_by_year[year][genre] = np.mean(g_rates), ci.low, ci.high, g_rates"
         ]
      },
      {
         "cell_type": "code",
         "execution_count": 152,
         "metadata": {},
         "outputs": [
            {
               "data": {
                  "image/png": "[encoded data removed]",
                  "text/plain": [
                     "<Figure size 1000x500 with 1 Axes>"
                  ]
               },
               "metadata": {},
               "output_type": "display_data"
            },
            {
               "data": {
                  "application/vnd.jupyter.widget-view+json": {
                     "model_id": "6c44aca39d854b0c9d69fde54a7e6c25",
                     "version_major": 2,
                     "version_minor": 0
                  },
                  "text/plain": [
                     "interactive(children=(IntSlider(value=1900, description='year', max=2019, min=1900), Output()), _dom_classes=(…"
                  ]
               },
               "metadata": {},
               "output_type": "display_data"
            },
            {
               "data": {
                  "text/plain": [
                     "<function __main__.plot_top10_by_year(year)>"
                  ]
               },
               "execution_count": 152,
               "metadata": {},
               "output_type": "execute_result"
            },
            {
               "data": {
                  "image/png": "[encoded data removed]",
                  "text/plain": [
                     "<Figure size 1000x500 with 1 Axes>"
                  ]
               },
               "metadata": {},
               "output_type": "display_data"
            }
         ],
         "source": [
            "# Plot the top 10 genres by year\n",
            "widget = widgets.IntSlider(min=1900, max=2019, step=1, value=1900)\n",
            "def plot_top10_by_year(year):\n",
            "    top10 = sorted(genre_rates_by_year[year].items(), key=lambda x: x[1][0], reverse=True)[:10]\n",
            "    plt.figure(figsize=(10, 5))\n",
            "    # plt.bar([x[0] for x in top10], [x[1][0] for x in top10])\n",
            "    plt.violinplot([x[1][3] for x in top10], showmeans=True, showextrema=False)\n",
            "    plt.xticks([1, 2, 3, 4, 5, 6, 7, 8, 9, 10], [x[0] for x in top10])\n",
            "    # plt.errorbar([x[0] for x in top10], [x[1][0] for x in top10], yerr=[[x[1][0]-x[1][1] for x in top10], [x[1][2]-x[1][0] for x in top10]], fmt='o', color='black')\n",
            "    plt.xticks(rotation=45)\n",
            "    plt.ylim(-1, 11)\n",
            "    plt.title(f\"Top 10 genres by average rating in {year}\")\n",
            "    plt.show()\n",
            "\n",
            "widgets.interact(plot_top10_by_year, year=widget)\n"
         ]
      },
      {
         "cell_type": "code",
         "execution_count": 142,
         "metadata": {},
         "outputs": [
            {
               "data": {
                  "application/vnd.jupyter.widget-view+json": {
                     "model_id": "f3b1a8570864479d87f30a34ef51cfbe",
                     "version_major": 2,
                     "version_minor": 0
                  },
                  "text/plain": [
                     "interactive(children=(IntSlider(value=2013, description='Year:', max=2013, min=1920), Output()), _dom_classes=…"
                  ]
               },
               "metadata": {},
               "output_type": "display_data"
            },
            {
               "data": {
                  "text/plain": [
                     "<function __main__.plot_genre_by_year(year)>"
                  ]
               },
               "execution_count": 142,
               "metadata": {},
               "output_type": "execute_result"
            }
         ],
         "source": [
            "# Plot the bottom 10 genres by year\n",
            "widget = widgets.IntSlider(min=1920, max=2013, step=1, value=2013, description=\"Year:\")\n",
            "def plot_genre_by_year(year):\n",
            "    bottom10 = sorted(genre_rates_by_year[year].items(), key=lambda x: x[1][0], reverse=False)[:10]\n",
            "    plt.figure(figsize=(10, 5))\n",
            "    plt.bar([x[0] for x in bottom10], [x[1][0] for x in bottom10], label=\"Average rating\")\n",
            "    plt.errorbar([x[0] for x in bottom10], [x[1][0] for x in bottom10], yerr=[[x[1][0]-x[1][1] for x in bottom10], [x[1][2]-x[1][0] for x in bottom10]], fmt='o', color='black', label=\"95% confidence interval\")\n",
            "    plt.xticks(rotation=45)\n",
            "    plt.title(f\"Bottom 10 genres by average rating in {year}\")\n",
            "    plt.legend()\n",
            "    plt.show()\n",
            "\n",
            "widgets.interact(plot_genre_by_year, year=widget)\n"
         ]
      },
      {
         "attachments": {},
         "cell_type": "markdown",
         "metadata": {},
         "source": [
            "#### Separation into bad, ok and good movies"
         ]
      },
      {
         "cell_type": "code",
         "execution_count": 175,
         "metadata": {},
         "outputs": [
            {
               "data": {
                  "image/png": "[encoded data removed]",
                  "text/plain": [
                     "<Figure size 640x480 with 1 Axes>"
                  ]
               },
               "metadata": {},
               "output_type": "display_data"
            }
         ],
         "source": [
            "# Distribution of ratings\n",
            "plt.hist(df_movies[\"vote_average\"], bins=100, density=True)\n",
            "# color first third of the data\n",
            "plt.axvspan(0, 5.9, alpha=0.5, color='red')\n",
            "plt.axvspan(5.9, 6.6, alpha=0.5, color='orange')\n",
            "plt.axvspan(6.6, 10, alpha=0.5, color='green')\n",
            "plt.show()"
         ]
      },
      {
         "cell_type": "code",
         "execution_count": 176,
         "metadata": {},
         "outputs": [],
         "source": [
            "# Split the data into 3 groups\n",
            "df_movies[\"rating_group\"] = pd.cut(df_movies[\"vote_average\"], bins=[0, 5.9, 6.6, 10], labels=[\"bad\", \"average\", \"good\"])"
         ]
      },
      {
         "cell_type": "code",
         "execution_count": 177,
         "metadata": {},
         "outputs": [
            {
               "data": {
                  "image/png": "[encoded data removed]",
                  "text/plain": [
                     "<Figure size 640x480 with 1 Axes>"
                  ]
               },
               "metadata": {},
               "output_type": "display_data"
            }
         ],
         "source": [
            "# Plot budget distribution by rating group\n",
            "# Log binning\n",
            "bins = np.logspace(0, 10, 100)\n",
            "plt.hist(df_movies[df_movies[\"rating_group\"] == \"bad\"][\"adj_budget\"], bins=bins, density=True, cumulative=True, label=\"bad\", alpha=0.5)\n",
            "plt.hist(df_movies[df_movies[\"rating_group\"] == \"average\"][\"adj_budget\"], bins=bins, density=True, cumulative=True, label=\"average\", alpha=0.5)\n",
            "plt.hist(df_movies[df_movies[\"rating_group\"] == \"good\"][\"adj_budget\"], bins=bins, density=True,  cumulative=True,label=\"good\", alpha=0.2)\n",
            "# plt.yscale(\"log\")\n",
            "plt.xscale(\"log\")\n",
            "plt.legend()\n",
            "plt.show()\n"
         ]
      },
      {
         "cell_type": "code",
         "execution_count": 178,
         "metadata": {},
         "outputs": [
            {
               "data": {
                  "image/png": "[encoded data removed]",
                  "text/plain": [
                     "<Figure size 640x480 with 1 Axes>"
                  ]
               },
               "metadata": {},
               "output_type": "display_data"
            }
         ],
         "source": [
            "# Plot revenue distribution by rating group\n",
            "# Log binning\n",
            "bins = np.logspace(0, 10, 100)\n",
            "plt.hist(df_movies[df_movies[\"rating_group\"] == \"bad\"][\"adj_revenue_x\"], bins=bins, density=True, cumulative=True, label=\"bad\", alpha=0.5)\n",
            "plt.hist(df_movies[df_movies[\"rating_group\"] == \"average\"][\"adj_revenue_x\"], bins=bins, density=True, cumulative=True, label=\"average\", alpha=0.5)\n",
            "plt.hist(df_movies[df_movies[\"rating_group\"] == \"good\"][\"adj_revenue_x\"], bins=bins, density=True,  cumulative=True,label=\"good\", alpha=0.2)\n",
            "# plt.yscale(\"log\")\n",
            "plt.xscale(\"log\")\n",
            "plt.legend()\n",
            "plt.show()\n"
         ]
      },
      {
         "cell_type": "code",
         "execution_count": 179,
         "metadata": {},
         "outputs": [
            {
               "data": {
                  "text/plain": [
                     "rating_group\n",
                     "bad        0.019109\n",
                     "average    0.000000\n",
                     "good       0.000000\n",
                     "Name: is_adult, dtype: float64"
                  ]
               },
               "execution_count": 179,
               "metadata": {},
               "output_type": "execute_result"
            }
         ],
         "source": [
            "# Cast to bool\n",
            "# Count adult movies in each group\n",
            "def aggreate_adult(x):\n",
            "    if x == \"True\":\n",
            "        return True\n",
            "    else:\n",
            "        return False\n",
            "\n",
            "df_movies[\"is_adult\"] = df_movies[\"adult\"].apply(aggreate_adult)\n",
            "df_movies.groupby(\"rating_group\")[\"is_adult\"].mean() * 100\n"
         ]
      },
      {
         "cell_type": "code",
         "execution_count": 180,
         "metadata": {},
         "outputs": [
            {
               "data": {
                  "image/png": "[encoded data removed]",
                  "text/plain": [
                     "<Figure size 640x480 with 1 Axes>"
                  ]
               },
               "metadata": {},
               "output_type": "display_data"
            }
         ],
         "source": [
            "# Plot revenue distribution by rating group\n",
            "# Log binning\n",
            "bins = np.logspace(0, 10, 100)\n",
            "plt.hist(df_movies[df_movies[\"rating_group\"] == \"bad\"][\"runtime_x\"], bins=bins, density=True, cumulative=True, label=\"bad\", alpha=0.5)\n",
            "plt.hist(df_movies[df_movies[\"rating_group\"] == \"average\"][\"runtime_x\"], bins=bins, density=True, cumulative=True, label=\"average\", alpha=0.5)\n",
            "plt.hist(df_movies[df_movies[\"rating_group\"] == \"good\"][\"runtime_x\"], bins=bins, density=True,  cumulative=True,label=\"good\", alpha=0.2)\n",
            "# plt.yscale(\"log\")\n",
            "plt.xscale(\"log\")\n",
            "plt.legend()\n",
            "plt.show()\n",
            "\n"
         ]
      },
      {
         "attachments": {},
         "cell_type": "markdown",
         "metadata": {},
         "source": [
            "#### The countries that have bad reviews"
         ]
      },
      {
         "cell_type": "code",
         "execution_count": 199,
         "metadata": {},
         "outputs": [
            {
               "data": {
                  "text/html": [
                     "<div>\n",
                     "<style scoped>\n",
                     "    .dataframe tbody tr th:only-of-type {\n",
                     "        vertical-align: middle;\n",
                     "    }\n",
                     "\n",
                     "    .dataframe tbody tr th {\n",
                     "        vertical-align: top;\n",
                     "    }\n",
                     "\n",
                     "    .dataframe thead th {\n",
                     "        text-align: right;\n",
                     "    }\n",
                     "</style>\n",
                     "<table border=\"1\" class=\"dataframe\">\n",
                     "  <thead>\n",
                     "    <tr style=\"text-align: right;\">\n",
                     "      <th></th>\n",
                     "      <th>wiki_id</th>\n",
                     "      <th>freebase_id</th>\n",
                     "      <th>name</th>\n",
                     "      <th>box_office_revenue</th>\n",
                     "      <th>runtime_x</th>\n",
                     "      <th>languages</th>\n",
                     "      <th>countries</th>\n",
                     "      <th>adj_revenue_x</th>\n",
                     "      <th>imdb_id</th>\n",
                     "      <th>adult</th>\n",
                     "      <th>...</th>\n",
                     "      <th>title</th>\n",
                     "      <th>video</th>\n",
                     "      <th>vote_average</th>\n",
                     "      <th>vote_count</th>\n",
                     "      <th>adj_revenue_y</th>\n",
                     "      <th>adj_budget</th>\n",
                     "      <th>adj_profit</th>\n",
                     "      <th>genres</th>\n",
                     "      <th>year</th>\n",
                     "      <th>release_date</th>\n",
                     "    </tr>\n",
                     "  </thead>\n",
                     "  <tbody>\n",
                     "    <tr>\n",
                     "      <th>0</th>\n",
                     "      <td>975900</td>\n",
                     "      <td>/m/03vyhn</td>\n",
                     "      <td>Ghosts of Mars</td>\n",
                     "      <td>14010832.0</td>\n",
                     "      <td>98.0</td>\n",
                     "      <td>[English Language]</td>\n",
                     "      <td>[United States of America]</td>\n",
                     "      <td>2.143713e+07</td>\n",
                     "      <td>tt0228333</td>\n",
                     "      <td>False</td>\n",
                     "      <td>...</td>\n",
                     "      <td>Ghosts of Mars</td>\n",
                     "      <td>False</td>\n",
                     "      <td>4.8</td>\n",
                     "      <td>299.0</td>\n",
                     "      <td>2.143713e+07</td>\n",
                     "      <td>4.284111e+07</td>\n",
                     "      <td>-2.140398e+07</td>\n",
                     "      <td>{Horror, Supernatural, Science Fiction, Space ...</td>\n",
                     "      <td>2001.0</td>\n",
                     "      <td>2001-08-24</td>\n",
                     "    </tr>\n",
                     "    <tr>\n",
                     "      <th>1</th>\n",
                     "      <td>9363483</td>\n",
                     "      <td>/m/0285_cd</td>\n",
                     "      <td>White Of The Eye</td>\n",
                     "      <td>NaN</td>\n",
                     "      <td>110.0</td>\n",
                     "      <td>[English Language]</td>\n",
                     "      <td>[United Kingdom]</td>\n",
                     "      <td>NaN</td>\n",
                     "      <td>tt0094320</td>\n",
                     "      <td>False</td>\n",
                     "      <td>...</td>\n",
                     "      <td>White of the Eye</td>\n",
                     "      <td>False</td>\n",
                     "      <td>5.7</td>\n",
                     "      <td>15.0</td>\n",
                     "      <td>0.000000e+00</td>\n",
                     "      <td>0.000000e+00</td>\n",
                     "      <td>0.000000e+00</td>\n",
                     "      <td>{Erotic thriller, Horror, Psychological thrill...</td>\n",
                     "      <td>1987.0</td>\n",
                     "      <td>1987-01-01</td>\n",
                     "    </tr>\n",
                     "    <tr>\n",
                     "      <th>2</th>\n",
                     "      <td>6631279</td>\n",
                     "      <td>/m/0gffwj</td>\n",
                     "      <td>Little city</td>\n",
                     "      <td>NaN</td>\n",
                     "      <td>93.0</td>\n",
                     "      <td>[English Language]</td>\n",
                     "      <td>[United States of America]</td>\n",
                     "      <td>NaN</td>\n",
                     "      <td>tt0119548</td>\n",
                     "      <td>False</td>\n",
                     "      <td>...</td>\n",
                     "      <td>Little City</td>\n",
                     "      <td>False</td>\n",
                     "      <td>6.0</td>\n",
                     "      <td>1.0</td>\n",
                     "      <td>0.000000e+00</td>\n",
                     "      <td>0.000000e+00</td>\n",
                     "      <td>0.000000e+00</td>\n",
                     "      <td>{Comedy, Drama, Romance Film, Romantic drama, ...</td>\n",
                     "      <td>1997.0</td>\n",
                     "      <td>1997-04-04</td>\n",
                     "    </tr>\n",
                     "    <tr>\n",
                     "      <th>3</th>\n",
                     "      <td>171005</td>\n",
                     "      <td>/m/016ywb</td>\n",
                     "      <td>Henry V</td>\n",
                     "      <td>10161099.0</td>\n",
                     "      <td>137.0</td>\n",
                     "      <td>[English Language]</td>\n",
                     "      <td>[United Kingdom]</td>\n",
                     "      <td>2.220446e+07</td>\n",
                     "      <td>tt0097499</td>\n",
                     "      <td>False</td>\n",
                     "      <td>...</td>\n",
                     "      <td>Henry V</td>\n",
                     "      <td>False</td>\n",
                     "      <td>7.4</td>\n",
                     "      <td>73.0</td>\n",
                     "      <td>0.000000e+00</td>\n",
                     "      <td>1.966718e+07</td>\n",
                     "      <td>-1.966718e+07</td>\n",
                     "      <td>{War, Drama, War film, Period piece, Costume d...</td>\n",
                     "      <td>1989.0</td>\n",
                     "      <td>1989-11-08</td>\n",
                     "    </tr>\n",
                     "    <tr>\n",
                     "      <th>4</th>\n",
                     "      <td>77856</td>\n",
                     "      <td>/m/0kcn7</td>\n",
                     "      <td>Mary Poppins</td>\n",
                     "      <td>102272727.0</td>\n",
                     "      <td>139.0</td>\n",
                     "      <td>[English Language]</td>\n",
                     "      <td>[United States of America]</td>\n",
                     "      <td>8.939626e+08</td>\n",
                     "      <td>tt0058331</td>\n",
                     "      <td>False</td>\n",
                     "      <td>...</td>\n",
                     "      <td>Mary Poppins</td>\n",
                     "      <td>False</td>\n",
                     "      <td>7.4</td>\n",
                     "      <td>1217.0</td>\n",
                     "      <td>8.939626e+08</td>\n",
                     "      <td>5.244581e+07</td>\n",
                     "      <td>8.415168e+08</td>\n",
                     "      <td>{Comedy, Drama, Musical, Children's/Family, Ch...</td>\n",
                     "      <td>1964.0</td>\n",
                     "      <td>1964-08-27</td>\n",
                     "    </tr>\n",
                     "    <tr>\n",
                     "      <th>5</th>\n",
                     "      <td>612710</td>\n",
                     "      <td>/m/02wjqm</td>\n",
                     "      <td>New Rose Hotel</td>\n",
                     "      <td>21521.0</td>\n",
                     "      <td>92.0</td>\n",
                     "      <td>[English Language]</td>\n",
                     "      <td>[United States of America]</td>\n",
                     "      <td>3.500327e+04</td>\n",
                     "      <td>tt0133122</td>\n",
                     "      <td>False</td>\n",
                     "      <td>...</td>\n",
                     "      <td>New Rose Hotel</td>\n",
                     "      <td>False</td>\n",
                     "      <td>5.0</td>\n",
                     "      <td>24.0</td>\n",
                     "      <td>0.000000e+00</td>\n",
                     "      <td>0.000000e+00</td>\n",
                     "      <td>0.000000e+00</td>\n",
                     "      <td>{Drama, Erotic thriller, Film adaptation, Futu...</td>\n",
                     "      <td>1999.0</td>\n",
                     "      <td>1999-10-01</td>\n",
                     "    </tr>\n",
                     "    <tr>\n",
                     "      <th>6</th>\n",
                     "      <td>21926710</td>\n",
                     "      <td>/m/05p45cv</td>\n",
                     "      <td>White on Rice</td>\n",
                     "      <td>NaN</td>\n",
                     "      <td>82.0</td>\n",
                     "      <td>[]</td>\n",
                     "      <td>[United States of America]</td>\n",
                     "      <td>NaN</td>\n",
                     "      <td>tt0892904</td>\n",
                     "      <td>False</td>\n",
                     "      <td>...</td>\n",
                     "      <td>White on Rice</td>\n",
                     "      <td>False</td>\n",
                     "      <td>6.4</td>\n",
                     "      <td>4.0</td>\n",
                     "      <td>0.000000e+00</td>\n",
                     "      <td>0.000000e+00</td>\n",
                     "      <td>0.000000e+00</td>\n",
                     "      <td>{Comedy, Romantic comedy, Romance Film, Romanc...</td>\n",
                     "      <td>2009.0</td>\n",
                     "      <td>2009-01-01</td>\n",
                     "    </tr>\n",
                     "    <tr>\n",
                     "      <th>7</th>\n",
                     "      <td>26067101</td>\n",
                     "      <td>/m/0b6c_nw</td>\n",
                     "      <td>Siam Sunset</td>\n",
                     "      <td>NaN</td>\n",
                     "      <td>91.0</td>\n",
                     "      <td>[]</td>\n",
                     "      <td>[Australia, New Zealand]</td>\n",
                     "      <td>NaN</td>\n",
                     "      <td>tt0178022</td>\n",
                     "      <td>False</td>\n",
                     "      <td>...</td>\n",
                     "      <td>Siam Sunset</td>\n",
                     "      <td>False</td>\n",
                     "      <td>6.7</td>\n",
                     "      <td>6.0</td>\n",
                     "      <td>0.000000e+00</td>\n",
                     "      <td>0.000000e+00</td>\n",
                     "      <td>0.000000e+00</td>\n",
                     "      <td>{Foreign, Comedy, Romance Film, Romantic comed...</td>\n",
                     "      <td>1999.0</td>\n",
                     "      <td>1999-01-01</td>\n",
                     "    </tr>\n",
                     "    <tr>\n",
                     "      <th>8</th>\n",
                     "      <td>9548445</td>\n",
                     "      <td>/m/02pjlrp</td>\n",
                     "      <td>Archie: To Riverdale and Back Again</td>\n",
                     "      <td>NaN</td>\n",
                     "      <td>100.0</td>\n",
                     "      <td>[English Language]</td>\n",
                     "      <td>[United States of America]</td>\n",
                     "      <td>NaN</td>\n",
                     "      <td>tt0099054</td>\n",
                     "      <td>False</td>\n",
                     "      <td>...</td>\n",
                     "      <td>Archie To Riverdale and Back Again</td>\n",
                     "      <td>False</td>\n",
                     "      <td>5.5</td>\n",
                     "      <td>1.0</td>\n",
                     "      <td>0.000000e+00</td>\n",
                     "      <td>0.000000e+00</td>\n",
                     "      <td>0.000000e+00</td>\n",
                     "      <td>{Comedy, TV Movie}</td>\n",
                     "      <td>1990.0</td>\n",
                     "      <td>1990-05-06</td>\n",
                     "    </tr>\n",
                     "    <tr>\n",
                     "      <th>9</th>\n",
                     "      <td>2314463</td>\n",
                     "      <td>/m/0734w5</td>\n",
                     "      <td>Electric Apricot: Quest For Festeroo</td>\n",
                     "      <td>NaN</td>\n",
                     "      <td>96.0</td>\n",
                     "      <td>[]</td>\n",
                     "      <td>[United States of America]</td>\n",
                     "      <td>NaN</td>\n",
                     "      <td>tt0482499</td>\n",
                     "      <td>False</td>\n",
                     "      <td>...</td>\n",
                     "      <td>National Lampoon Presents Electric Apricot: Qu...</td>\n",
                     "      <td>False</td>\n",
                     "      <td>6.3</td>\n",
                     "      <td>3.0</td>\n",
                     "      <td>0.000000e+00</td>\n",
                     "      <td>0.000000e+00</td>\n",
                     "      <td>0.000000e+00</td>\n",
                     "      <td>{Parody, Comedy, Mockumentary}</td>\n",
                     "      <td>2006.0</td>\n",
                     "      <td>2006-01-01</td>\n",
                     "    </tr>\n",
                     "  </tbody>\n",
                     "</table>\n",
                     "<p>10 rows × 36 columns</p>\n",
                     "</div>"
                  ],
                  "text/plain": [
                     "    wiki_id freebase_id                                  name  \\\n",
                     "0    975900   /m/03vyhn                        Ghosts of Mars   \n",
                     "1   9363483  /m/0285_cd                      White Of The Eye   \n",
                     "2   6631279   /m/0gffwj                           Little city   \n",
                     "3    171005   /m/016ywb                               Henry V   \n",
                     "4     77856    /m/0kcn7                          Mary Poppins   \n",
                     "5    612710   /m/02wjqm                        New Rose Hotel   \n",
                     "6  21926710  /m/05p45cv                         White on Rice   \n",
                     "7  26067101  /m/0b6c_nw                           Siam Sunset   \n",
                     "8   9548445  /m/02pjlrp   Archie: To Riverdale and Back Again   \n",
                     "9   2314463   /m/0734w5  Electric Apricot: Quest For Festeroo   \n",
                     "\n",
                     "   box_office_revenue  runtime_x           languages  \\\n",
                     "0          14010832.0       98.0  [English Language]   \n",
                     "1                 NaN      110.0  [English Language]   \n",
                     "2                 NaN       93.0  [English Language]   \n",
                     "3          10161099.0      137.0  [English Language]   \n",
                     "4         102272727.0      139.0  [English Language]   \n",
                     "5             21521.0       92.0  [English Language]   \n",
                     "6                 NaN       82.0                  []   \n",
                     "7                 NaN       91.0                  []   \n",
                     "8                 NaN      100.0  [English Language]   \n",
                     "9                 NaN       96.0                  []   \n",
                     "\n",
                     "                    countries  adj_revenue_x    imdb_id  adult  ...  \\\n",
                     "0  [United States of America]   2.143713e+07  tt0228333  False  ...   \n",
                     "1            [United Kingdom]            NaN  tt0094320  False  ...   \n",
                     "2  [United States of America]            NaN  tt0119548  False  ...   \n",
                     "3            [United Kingdom]   2.220446e+07  tt0097499  False  ...   \n",
                     "4  [United States of America]   8.939626e+08  tt0058331  False  ...   \n",
                     "5  [United States of America]   3.500327e+04  tt0133122  False  ...   \n",
                     "6  [United States of America]            NaN  tt0892904  False  ...   \n",
                     "7    [Australia, New Zealand]            NaN  tt0178022  False  ...   \n",
                     "8  [United States of America]            NaN  tt0099054  False  ...   \n",
                     "9  [United States of America]            NaN  tt0482499  False  ...   \n",
                     "\n",
                     "                                               title  video vote_average  \\\n",
                     "0                                     Ghosts of Mars  False          4.8   \n",
                     "1                                   White of the Eye  False          5.7   \n",
                     "2                                        Little City  False          6.0   \n",
                     "3                                            Henry V  False          7.4   \n",
                     "4                                       Mary Poppins  False          7.4   \n",
                     "5                                     New Rose Hotel  False          5.0   \n",
                     "6                                      White on Rice  False          6.4   \n",
                     "7                                        Siam Sunset  False          6.7   \n",
                     "8                 Archie To Riverdale and Back Again  False          5.5   \n",
                     "9  National Lampoon Presents Electric Apricot: Qu...  False          6.3   \n",
                     "\n",
                     "  vote_count adj_revenue_y    adj_budget    adj_profit  \\\n",
                     "0      299.0  2.143713e+07  4.284111e+07 -2.140398e+07   \n",
                     "1       15.0  0.000000e+00  0.000000e+00  0.000000e+00   \n",
                     "2        1.0  0.000000e+00  0.000000e+00  0.000000e+00   \n",
                     "3       73.0  0.000000e+00  1.966718e+07 -1.966718e+07   \n",
                     "4     1217.0  8.939626e+08  5.244581e+07  8.415168e+08   \n",
                     "5       24.0  0.000000e+00  0.000000e+00  0.000000e+00   \n",
                     "6        4.0  0.000000e+00  0.000000e+00  0.000000e+00   \n",
                     "7        6.0  0.000000e+00  0.000000e+00  0.000000e+00   \n",
                     "8        1.0  0.000000e+00  0.000000e+00  0.000000e+00   \n",
                     "9        3.0  0.000000e+00  0.000000e+00  0.000000e+00   \n",
                     "\n",
                     "                                              genres    year release_date  \n",
                     "0  {Horror, Supernatural, Science Fiction, Space ...  2001.0   2001-08-24  \n",
                     "1  {Erotic thriller, Horror, Psychological thrill...  1987.0   1987-01-01  \n",
                     "2  {Comedy, Drama, Romance Film, Romantic drama, ...  1997.0   1997-04-04  \n",
                     "3  {War, Drama, War film, Period piece, Costume d...  1989.0   1989-11-08  \n",
                     "4  {Comedy, Drama, Musical, Children's/Family, Ch...  1964.0   1964-08-27  \n",
                     "5  {Drama, Erotic thriller, Film adaptation, Futu...  1999.0   1999-10-01  \n",
                     "6  {Comedy, Romantic comedy, Romance Film, Romanc...  2009.0   2009-01-01  \n",
                     "7  {Foreign, Comedy, Romance Film, Romantic comed...  1999.0   1999-01-01  \n",
                     "8                                 {Comedy, TV Movie}  1990.0   1990-05-06  \n",
                     "9                     {Parody, Comedy, Mockumentary}  2006.0   2006-01-01  \n",
                     "\n",
                     "[10 rows x 36 columns]"
                  ]
               },
               "execution_count": 199,
               "metadata": {},
               "output_type": "execute_result"
            }
         ],
         "source": [
            "def process_countries_languages(x):\n",
            "    if x is None or pd.isna(x):\n",
            "        return []\n",
            "    else:\n",
            "        return list(json.loads(x).values())\n",
            "\n",
            "# df_movies[\"countries\"] = df_movies[\"countries\"].apply(process_countries_languages)\n",
            "df_movies[\"languages\"] = df_movies[\"languages\"].apply(process_countries_languages)\n",
            "df_movies.head(10)\n"
         ]
      },
      {
         "cell_type": "code",
         "execution_count": 202,
         "metadata": {},
         "outputs": [
            {
               "name": "stdout",
               "output_type": "stream",
               "text": [
                  "We have in total 133 different countries\n",
                  "{'Kenya', 'Lebanon', 'Morocco', 'Israel', 'Senegal', 'Panama', 'Nazi Germany', 'Portugal', 'Taiwan', 'Monaco', 'Northern Ireland', 'Poland', 'Singapore', 'West Germany', 'Czech Republic', 'Peru', 'Japan', 'Romania', 'Sri Lanka', 'Republic of China', 'Qatar', 'Netherlands', 'Serbia and Montenegro', 'German Democratic Republic', 'Egypt', 'Uzbekistan', 'Socialist Federal Republic of Yugoslavia', 'Cuba', 'Russia', 'Democratic Republic of the Congo', 'Ukrainian SSR', 'Malta', 'Czechoslovakia', 'South Korea', 'Malaysia', 'New Zealand', 'Weimar Republic', 'Slovak Republic', 'Kingdom of Italy', 'Albania', 'Puerto Rico', 'Bhutan', 'Bulgaria', 'Australia', 'Montenegro', 'Tunisia', 'Uruguay', 'Iran', 'Jamaica', 'Slovenia', 'Algeria', 'Chile', 'Italy', 'Canada', 'Korea', 'Philippines', 'Colombia', 'Mongolia', 'Denmark', 'Aruba', 'Isle of Man', 'Mandatory Palestine', 'Bahamas', 'Afghanistan', 'Iceland', 'United Arab Emirates', 'Thailand', 'Yugoslavia', 'Argentina', 'Indonesia', 'Scotland', 'Norway', 'Belgium', 'France', 'England', 'Croatia', 'Zimbabwe', 'Ireland', 'Mexico', 'Switzerland', 'Venezuela', 'Hong Kong', 'United States of America', 'Soviet Union', 'Hungary', 'Azerbaijan', 'Libya', 'Iraq', 'Pakistan', 'Lithuania', 'Cyprus', 'Vietnam', 'Bolivia', 'China', 'Greece', 'United Kingdom', 'Ukraine', 'Slovakia', 'Georgia', 'Germany', 'Cambodia', 'Nigeria', 'Kingdom of Great Britain', 'Guinea', 'Brazil', 'Costa Rica', 'German Language', 'Sweden', 'Luxembourg', 'Georgian SSR', 'Austria', 'Finland', 'Burkina Faso', 'Ethiopia', 'South Africa', 'India', 'Bosnia and Herzegovina', 'Palestinian territories', 'Estonia', 'Kuwait', 'Republic of Macedonia', 'Jordan', 'Spain', 'Bangladesh', 'Palestinian Territories', 'Mali', 'Federal Republic of Yugoslavia', 'Serbia', 'Turkey', 'Cameroon', 'Haiti', 'Armenia', 'Wales'}\n"
               ]
            }
         ],
         "source": [
            "all_countries = set()\n",
            "\n",
            "for c in df_movies[\"countries\"]:\n",
            "    all_countries.update(c)\n",
            "\n",
            "print(\"We have in total\", len(all_countries), \"different countries\")\n",
            "print(all_countries)"
         ]
      },
      {
         "cell_type": "code",
         "execution_count": 203,
         "metadata": {},
         "outputs": [
            {
               "data": {
                  "text/html": [
                     "<div>\n",
                     "<style scoped>\n",
                     "    .dataframe tbody tr th:only-of-type {\n",
                     "        vertical-align: middle;\n",
                     "    }\n",
                     "\n",
                     "    .dataframe tbody tr th {\n",
                     "        vertical-align: top;\n",
                     "    }\n",
                     "\n",
                     "    .dataframe thead th {\n",
                     "        text-align: right;\n",
                     "    }\n",
                     "</style>\n",
                     "<table border=\"1\" class=\"dataframe\">\n",
                     "  <thead>\n",
                     "    <tr style=\"text-align: right;\">\n",
                     "      <th></th>\n",
                     "      <th>wiki_id</th>\n",
                     "      <th>freebase_id</th>\n",
                     "      <th>name</th>\n",
                     "      <th>box_office_revenue</th>\n",
                     "      <th>runtime_x</th>\n",
                     "      <th>languages</th>\n",
                     "      <th>countries</th>\n",
                     "      <th>adj_revenue_x</th>\n",
                     "      <th>imdb_id</th>\n",
                     "      <th>adult</th>\n",
                     "      <th>...</th>\n",
                     "      <th>played_in_Bangladesh</th>\n",
                     "      <th>played_in_Palestinian Territories</th>\n",
                     "      <th>played_in_Mali</th>\n",
                     "      <th>played_in_Federal Republic of Yugoslavia</th>\n",
                     "      <th>played_in_Serbia</th>\n",
                     "      <th>played_in_Turkey</th>\n",
                     "      <th>played_in_Cameroon</th>\n",
                     "      <th>played_in_Haiti</th>\n",
                     "      <th>played_in_Armenia</th>\n",
                     "      <th>played_in_Wales</th>\n",
                     "    </tr>\n",
                     "  </thead>\n",
                     "  <tbody>\n",
                     "    <tr>\n",
                     "      <th>0</th>\n",
                     "      <td>975900</td>\n",
                     "      <td>/m/03vyhn</td>\n",
                     "      <td>Ghosts of Mars</td>\n",
                     "      <td>14010832.0</td>\n",
                     "      <td>98.0</td>\n",
                     "      <td>[English Language]</td>\n",
                     "      <td>[United States of America]</td>\n",
                     "      <td>2.143713e+07</td>\n",
                     "      <td>tt0228333</td>\n",
                     "      <td>False</td>\n",
                     "      <td>...</td>\n",
                     "      <td>False</td>\n",
                     "      <td>False</td>\n",
                     "      <td>False</td>\n",
                     "      <td>False</td>\n",
                     "      <td>False</td>\n",
                     "      <td>False</td>\n",
                     "      <td>False</td>\n",
                     "      <td>False</td>\n",
                     "      <td>False</td>\n",
                     "      <td>False</td>\n",
                     "    </tr>\n",
                     "    <tr>\n",
                     "      <th>1</th>\n",
                     "      <td>9363483</td>\n",
                     "      <td>/m/0285_cd</td>\n",
                     "      <td>White Of The Eye</td>\n",
                     "      <td>NaN</td>\n",
                     "      <td>110.0</td>\n",
                     "      <td>[English Language]</td>\n",
                     "      <td>[United Kingdom]</td>\n",
                     "      <td>NaN</td>\n",
                     "      <td>tt0094320</td>\n",
                     "      <td>False</td>\n",
                     "      <td>...</td>\n",
                     "      <td>False</td>\n",
                     "      <td>False</td>\n",
                     "      <td>False</td>\n",
                     "      <td>False</td>\n",
                     "      <td>False</td>\n",
                     "      <td>False</td>\n",
                     "      <td>False</td>\n",
                     "      <td>False</td>\n",
                     "      <td>False</td>\n",
                     "      <td>False</td>\n",
                     "    </tr>\n",
                     "    <tr>\n",
                     "      <th>2</th>\n",
                     "      <td>6631279</td>\n",
                     "      <td>/m/0gffwj</td>\n",
                     "      <td>Little city</td>\n",
                     "      <td>NaN</td>\n",
                     "      <td>93.0</td>\n",
                     "      <td>[English Language]</td>\n",
                     "      <td>[United States of America]</td>\n",
                     "      <td>NaN</td>\n",
                     "      <td>tt0119548</td>\n",
                     "      <td>False</td>\n",
                     "      <td>...</td>\n",
                     "      <td>False</td>\n",
                     "      <td>False</td>\n",
                     "      <td>False</td>\n",
                     "      <td>False</td>\n",
                     "      <td>False</td>\n",
                     "      <td>False</td>\n",
                     "      <td>False</td>\n",
                     "      <td>False</td>\n",
                     "      <td>False</td>\n",
                     "      <td>False</td>\n",
                     "    </tr>\n",
                     "    <tr>\n",
                     "      <th>3</th>\n",
                     "      <td>171005</td>\n",
                     "      <td>/m/016ywb</td>\n",
                     "      <td>Henry V</td>\n",
                     "      <td>10161099.0</td>\n",
                     "      <td>137.0</td>\n",
                     "      <td>[English Language]</td>\n",
                     "      <td>[United Kingdom]</td>\n",
                     "      <td>2.220446e+07</td>\n",
                     "      <td>tt0097499</td>\n",
                     "      <td>False</td>\n",
                     "      <td>...</td>\n",
                     "      <td>False</td>\n",
                     "      <td>False</td>\n",
                     "      <td>False</td>\n",
                     "      <td>False</td>\n",
                     "      <td>False</td>\n",
                     "      <td>False</td>\n",
                     "      <td>False</td>\n",
                     "      <td>False</td>\n",
                     "      <td>False</td>\n",
                     "      <td>False</td>\n",
                     "    </tr>\n",
                     "    <tr>\n",
                     "      <th>4</th>\n",
                     "      <td>77856</td>\n",
                     "      <td>/m/0kcn7</td>\n",
                     "      <td>Mary Poppins</td>\n",
                     "      <td>102272727.0</td>\n",
                     "      <td>139.0</td>\n",
                     "      <td>[English Language]</td>\n",
                     "      <td>[United States of America]</td>\n",
                     "      <td>8.939626e+08</td>\n",
                     "      <td>tt0058331</td>\n",
                     "      <td>False</td>\n",
                     "      <td>...</td>\n",
                     "      <td>False</td>\n",
                     "      <td>False</td>\n",
                     "      <td>False</td>\n",
                     "      <td>False</td>\n",
                     "      <td>False</td>\n",
                     "      <td>False</td>\n",
                     "      <td>False</td>\n",
                     "      <td>False</td>\n",
                     "      <td>False</td>\n",
                     "      <td>False</td>\n",
                     "    </tr>\n",
                     "  </tbody>\n",
                     "</table>\n",
                     "<p>5 rows × 169 columns</p>\n",
                     "</div>"
                  ],
                  "text/plain": [
                     "   wiki_id freebase_id              name  box_office_revenue  runtime_x  \\\n",
                     "0   975900   /m/03vyhn    Ghosts of Mars          14010832.0       98.0   \n",
                     "1  9363483  /m/0285_cd  White Of The Eye                 NaN      110.0   \n",
                     "2  6631279   /m/0gffwj       Little city                 NaN       93.0   \n",
                     "3   171005   /m/016ywb           Henry V          10161099.0      137.0   \n",
                     "4    77856    /m/0kcn7      Mary Poppins         102272727.0      139.0   \n",
                     "\n",
                     "            languages                   countries  adj_revenue_x    imdb_id  \\\n",
                     "0  [English Language]  [United States of America]   2.143713e+07  tt0228333   \n",
                     "1  [English Language]            [United Kingdom]            NaN  tt0094320   \n",
                     "2  [English Language]  [United States of America]            NaN  tt0119548   \n",
                     "3  [English Language]            [United Kingdom]   2.220446e+07  tt0097499   \n",
                     "4  [English Language]  [United States of America]   8.939626e+08  tt0058331   \n",
                     "\n",
                     "   adult  ... played_in_Bangladesh played_in_Palestinian Territories  \\\n",
                     "0  False  ...                False                             False   \n",
                     "1  False  ...                False                             False   \n",
                     "2  False  ...                False                             False   \n",
                     "3  False  ...                False                             False   \n",
                     "4  False  ...                False                             False   \n",
                     "\n",
                     "  played_in_Mali played_in_Federal Republic of Yugoslavia played_in_Serbia  \\\n",
                     "0          False                                    False            False   \n",
                     "1          False                                    False            False   \n",
                     "2          False                                    False            False   \n",
                     "3          False                                    False            False   \n",
                     "4          False                                    False            False   \n",
                     "\n",
                     "  played_in_Turkey played_in_Cameroon played_in_Haiti played_in_Armenia  \\\n",
                     "0            False              False           False             False   \n",
                     "1            False              False           False             False   \n",
                     "2            False              False           False             False   \n",
                     "3            False              False           False             False   \n",
                     "4            False              False           False             False   \n",
                     "\n",
                     "  played_in_Wales  \n",
                     "0           False  \n",
                     "1           False  \n",
                     "2           False  \n",
                     "3           False  \n",
                     "4           False  \n",
                     "\n",
                     "[5 rows x 169 columns]"
                  ]
               },
               "execution_count": 203,
               "metadata": {},
               "output_type": "execute_result"
            }
         ],
         "source": [
            "# Create a column for each country, language\n",
            "for c in all_countries:\n",
            "    df_movies[f\"played_in_{c}\"] = df_movies[\"countries\"].apply(lambda x: c in x)\n",
            "df_movies.head(5)"
         ]
      },
      {
         "cell_type": "code",
         "execution_count": 204,
         "metadata": {},
         "outputs": [],
         "source": [
            "# Average rate by country\n",
            "country_rates = dict()\n",
            "for c in all_countries:\n",
            "    c_rates = df_movies[df_movies[f\"played_in_{c}\"]][\"vote_average\"]\n",
            "    country_rates[c] = c_rates\n"
         ]
      },
      {
         "cell_type": "code",
         "execution_count": 249,
         "metadata": {},
         "outputs": [
            {
               "name": "stdout",
               "output_type": "stream",
               "text": [
                  "0                          Fiji\n",
                  "1                      Tanzania\n",
                  "2                     W. Sahara\n",
                  "3                        Canada\n",
                  "4      United States of America\n",
                  "                 ...           \n",
                  "172                      Serbia\n",
                  "173                  Montenegro\n",
                  "174                      Kosovo\n",
                  "175         Trinidad and Tobago\n",
                  "176                    S. Sudan\n",
                  "Name: name, Length: 177, dtype: object\n"
               ]
            },
            {
               "data": {
                  "image/png": "[encoded data removed]",
                  "text/plain": [
                     "<Figure size 640x480 with 2 Axes>"
                  ]
               },
               "metadata": {},
               "output_type": "display_data"
            }
         ],
         "source": [
            "import matplotlib\n",
            "\n",
            "# World map coloured by vote average\n",
            "world = geopandas.read_file(geopandas.datasets.get_path('naturalearth_lowres'))\n",
            "ax = world.plot()\n",
            "\n",
            "cmap = matplotlib.colormaps[\"plasma\"].resampled(100)\n",
            "print(world.name)\n",
            "\n",
            "for c in country_rates:\n",
            "    c_rate = country_rates[c].mean()\n",
            "    if c not in world.name.values:\n",
            "        continue\n",
            "    world[world.name == c].plot(color=cmap(c_rate/10),ax=ax)\n",
            "# plt.set_cmap(\"plasma\")\n",
            "plt.colorbar(plt.cm.ScalarMappable(norm=matplotlib.colors.Normalize(0, 10), cmap=cmap),\n",
            "             ax=ax, label=\"Average rating\")\n",
            "plt.show()"
         ]
      },
      {
         "cell_type": "markdown",
         "metadata": {},
         "source": [
            "### The genres that contain the most bombs"
         ]
      },
      {
         "cell_type": "markdown",
         "metadata": {},
         "source": [
            "We processed the genres from 300 diferrent genres to 200 genres. We did that by saying for example that if a movie is a Romance Comedy then it is a Romance and a Comedy.\n",
            "\n",
            "Then we have one hot encoded the presence of each genre in the movies. the result is stored in the dataframe **genres.csv** (this file is generated by the script `genres_study.py`)."
         ]
      },
      {
         "cell_type": "code",
         "execution_count": null,
         "metadata": {},
         "outputs": [],
         "source": [
            "# Read the dataframe\n",
            "df_genre = pd.read_csv(\"../data/MovieSummaries/genres.csv\", index_col=0)\n",
            "\n",
            "# Merge with the computed bombs\n",
            "df_genre = df_genre.merge(df_movies[[\"wiki_id\", \"is_bomb_profit\", \"is_bomb_reviews\"]], on=\"wiki_id\")\n",
            "\n",
            "genre_names = list(set(df_genre.columns).difference([\"wiki_id\", \"freebase_id\", \"name\", \"is_bomb_profit\", \"is_bomb_reviews\"]))\n",
            "count_ratio = []\n",
            "count_total = []\n",
            "for gn in genre_names:\n",
            "    count_failures = df_genre[df_genre[\"is_bomb_profit\"]][gn].sum()\n",
            "    total = df_genre[gn].sum()\n",
            "    count_total.append(total)\n",
            "    count_ratio.append(count_failures / total)\n",
            "\n",
            "genre_names = np.array(genre_names)\n",
            "count_ratio = np.array(count_ratio)\n",
            "count_total = np.array(count_total)\n",
            "\n",
            "genre_names, count_ratio = genre_names[count_total > 100], count_ratio[count_total > 100]\n",
            "\n",
            "genre_names = genre_names[np.argsort(-count_ratio)]\n",
            "count_ratio = count_ratio[np.argsort(-count_ratio)]\n",
            "\n",
            "plt.figure(figsize=(10, 5))\n",
            "plt.bar(genre_names[:10], count_ratio[:10]*100)\n",
            "plt.xticks(rotation=90)\n",
            "plt.title(\"Proportion of bombs in each genre based on profit\")\n",
            "plt.ylabel(\"% of all movies\")\n",
            "plt.show()"
         ]
      },
      {
         "cell_type": "code",
         "execution_count": null,
         "metadata": {},
         "outputs": [],
         "source": [
            "# Same figure considering bar reviews as beeing a failure\n",
            "count_ratio = []\n",
            "count_total = []\n",
            "for gn in genre_names:\n",
            "    count_failures = df_genre[df_genre[\"is_bomb_reviews\"]][gn].sum()\n",
            "    total = df_genre[gn].sum()\n",
            "    count_total.append(total)\n",
            "    count_ratio.append(count_failures / total)\n",
            "\n",
            "genre_names = np.array(genre_names)\n",
            "count_ratio = np.array(count_ratio)\n",
            "count_total = np.array(count_total)\n",
            "\n",
            "genre_names, count_ratio = genre_names[count_total > 100], count_ratio[count_total > 100]\n",
            "\n",
            "genre_names = genre_names[np.argsort(-count_ratio)]\n",
            "count_ratio = count_ratio[np.argsort(-count_ratio)]\n",
            "\n",
            "plt.figure(figsize=(10, 5))\n",
            "plt.bar(genre_names[:10], count_ratio[:10]*100)\n",
            "plt.title(\"Proportion of bombs in each genre based on reviews\")\n",
            "plt.ylabel(\"% of all movies\")\n",
            "plt.xticks(rotation=90)\n",
            "plt.show()\n"
         ]
      },
      {
         "cell_type": "markdown",
         "metadata": {},
         "source": [
            "There are bad movies in every genre but here we have obtained the genres that contains the greatest proportions of failures. And the two list we obtained look very plausible. We can easyly think of a Zombie movie that must be a failure in terms of profit. But now we will analyse more precisely what could make a movie fail."
         ]
      },
      {
         "cell_type": "markdown",
         "metadata": {},
         "source": [
            "### Initial analysis of tvtropes effect"
         ]
      },
      {
         "cell_type": "markdown",
         "metadata": {},
         "source": [
            "For this part, the goal is to explore the associations between the presence of tropes and the indication of box-office bombs. This could be done by doing a logistic regression of the `is_bomb_tvtropes` variable on the one-hot encodings of the tropes and look at the coefficients and the p-values."
         ]
      },
      {
         "cell_type": "code",
         "execution_count": null,
         "metadata": {},
         "outputs": [],
         "source": [
            "# Retrieve all the tropes from the movies in the dataset\n",
            "all_tropes = [tr for tropes in df_tropes[\"trope\"].values for tr in tropes if tr != \"boxofficebomb\"]\n",
            "# Retrieve all  the tropes from the box-office bomb movies in the dataset\n",
            "all_tropes_bombs = [tr for tropes in df_tropes[\"trope\"].values for tr in tropes if \"boxofficebomb\" in tropes and tr != \"boxofficebomb\"]\n",
            "\n",
            "# counts the number of movies in each trope\n",
            "from collections import Counter\n",
            "counts = Counter(all_tropes)\n",
            "counts_bombs = Counter(all_tropes_bombs) # only consider bombs\n",
            "\n",
            "def normalize_counts(counts, normalizing_const=None):\n",
            "    \"\"\"Divide the counts by the number of movies\n",
            "    \"\"\"\n",
            "    if normalizing_const is None:\n",
            "        normalizing_const = sum(counts.values(), 0.0)\n",
            "    for key in counts:\n",
            "        counts[key] /= normalizing_const\n",
            "        counts[key] *= 100\n",
            "    return counts\n",
            "\n",
            "def count_movies_with_trope_is_bomb(df_tropes, trope):\n",
            "    i = 0\n",
            "    for trope_list in df_tropes[\"trope\"]:\n",
            "        if trope in trope_list and \"boxofficebomb\" in trope_list:\n",
            "            i += 1\n",
            "    return i\n",
            "\n",
            "# normalize by the number of movies\n",
            "counts_n = normalize_counts(counts, df_tropes.shape[0])\n",
            "counts_bombs_n = normalize_counts(counts_bombs, df_tropes[\"is_bomb_tvtropes\"].sum())\n",
            "\n",
            "res_all = {}\n",
            "for k, v in counts.most_common(100):\n",
            "    res_all[k] = v\n",
            "\n",
            "top_tropes = list(res_all.keys())\n",
            "\n",
            "res_bombs = {}\n",
            "for k, v in counts_bombs.most_common(100):\n",
            "    res_bombs[k] = v"
         ]
      },
      {
         "cell_type": "code",
         "execution_count": null,
         "metadata": {},
         "outputs": [],
         "source": [
            "dict_plot = {}\n",
            "for i, trope in enumerate(top_tropes):\n",
            "    dict_plot[trope] = count_movies_with_trope_is_bomb(df_tropes, trope) / res_all[trope]\n",
            "dict_plot = {k: v for k, v in sorted(dict_plot.items(), key=lambda item: item[1], reverse=True)}\n",
            "\n",
            "plt.bar(list(dict_plot.keys())[:10], list(dict_plot.values())[:10])\n",
            "plt.xticks(rotation=90)\n",
            "plt.ylabel(\"% of all movies with the trope\")\n",
            "plt.title(\"% of bombed movies in each of the top tropes\")\n",
            "plt.show()"
         ]
      },
      {
         "cell_type": "markdown",
         "metadata": {},
         "source": [
            "Comment: These tropes are the ones that contain the most bombed movies. We can see that these tropes make a lot of sense when one checks their definitions on tvtropes.org."
         ]
      },
      {
         "cell_type": "code",
         "execution_count": null,
         "metadata": {},
         "outputs": [],
         "source": [
            "features_list = top_tropes\n",
            "\n",
            "trope_ind_mat = np.zeros((len(df_tropes), len(features_list)))\n",
            "\n",
            "for i, trope in enumerate(features_list):\n",
            "    trope_indicator = []\n",
            "    for trope_list in df_tropes[\"trope\"].values:\n",
            "        trope_indicator.append(trope in trope_list)\n",
            "    trope_ind_mat[:, i] = trope_indicator\n",
            "trope_ind_mat = pd.DataFrame(trope_ind_mat, columns=features_list)\n",
            "\n",
            "model = sm.Logit(df_tropes[\"is_bomb_tvtropes\"].values, sm.add_constant(trope_ind_mat))\n",
            "res = model.fit()\n",
            "\n",
            "res.params[res.pvalues[res.pvalues < 0.05/100].index].sort_values(ascending=False)"
         ]
      },
      {
         "cell_type": "markdown",
         "metadata": {},
         "source": [
            "Unhide the cell below to see the full results of the regression. In short, there are a few tropes that have strong effects (possibly causal) on the failure of the movie, but these tropes are not present in the trope plot above."
         ]
      },
      {
         "cell_type": "markdown",
         "metadata": {},
         "source": [
            "#### Full results of the regression"
         ]
      },
      {
         "cell_type": "code",
         "execution_count": null,
         "metadata": {},
         "outputs": [],
         "source": [
            "res.summary()"
         ]
      },
      {
         "cell_type": "markdown",
         "metadata": {},
         "source": [
            "### Initial analysis of competition effect"
         ]
      },
      {
         "cell_type": "markdown",
         "metadata": {},
         "source": [
            "It is intuitive to believe that the competition bewteen movies has an effect on the success or failure of a movie. But what is the competition?"
         ]
      },
      {
         "cell_type": "markdown",
         "metadata": {},
         "source": [
            "#### Extract competition features"
         ]
      },
      {
         "cell_type": "markdown",
         "metadata": {},
         "source": [
            "The features related to competition we are going to extract (for now) are :\n",
            " - the number of movies released the same week\n",
            " - the number of movies released the same month\n",
            " - the number of movies released the same year\n",
            "\n",
            " - the number of movies released the same week of the same genre\n",
            " - the number of movies released the same month of the same genre\n",
            " - the number of movies released the same year of the same genre"
         ]
      },
      {
         "cell_type": "code",
         "execution_count": null,
         "metadata": {},
         "outputs": [],
         "source": [
            "# Only keep movies with a release date\n",
            "df_movies_rd = df_movies[~df_movies[\"release_date\"].isna()]\n",
            "\n",
            "# Count the number of movies per week, month, year \n",
            "for period in [\"W\", \"M\", \"Y\"]:\n",
            "    df_movies_rd[\"period\"] = df_movies_rd[\"release_date\"].apply(lambda x: x.to_period(period))\n",
            "    df_movies_rd[\"num_release_this_\" + period] = df_movies_rd.groupby(\"period\")[\"period\"].transform(\"count\")\n",
            "df_movies_rd.drop(columns=[\"period\"], inplace=True)\n",
            "\n",
            "df_movies_genre_exploded = df_movies_rd.explode(column=\"genres\")\n",
            "\n",
            "# Count the number of movies per week, month, year of the same genre\n",
            "for period in [\"W\", \"M\", \"Y\"]:\n",
            "    df_movies_rd[\"num_release_this_\" + period + \"_of_this_genre\"] = 0\n",
            "    df_movies_rd[\"period\"] = df_movies_rd[\"release_date\"].apply(lambda x: x.to_period(period))\n",
            "    df_movies_genre_exploded[\"period\"] = df_movies_genre_exploded[\"release_date\"].apply(lambda x: x.to_period(period))\n",
            "    for genre in df_movies_genre_exploded[\"genres\"].unique():\n",
            "        # imdb_genres_df[\"num_release_this_\" + period + \"_of_this_genre\"] = merge_df[merge_df[\"genres\"] == genre].groupby(\"period\")[\"period\"].transform(\"count\")\n",
            "        counts = df_movies_genre_exploded[df_movies_genre_exploded[\"genres\"] == genre].groupby(\"period\")[\"id\"].nunique()\n",
            "        df_movies_rd[\"num_release_this_\" + period + \"_of_this_genre\"] = df_movies_rd[\"period\"].apply(lambda x: counts[x] if x in counts else 0)\n",
            "\n",
            "df_movies_rd.drop(columns=[\"period\"], inplace=True)\n",
            "del df_movies_genre_exploded\n"
         ]
      },
      {
         "cell_type": "markdown",
         "metadata": {},
         "source": [
            "#### Linear regression with competition features"
         ]
      },
      {
         "cell_type": "markdown",
         "metadata": {},
         "source": [
            "Now we are going to train a linar model to predict wether a movie is a bomb or not using the previously extracted features. In that way we will ser the effect of competition or not on being a bomb."
         ]
      },
      {
         "cell_type": "markdown",
         "metadata": {},
         "source": [
            "After som features selection, we came out with the following model"
         ]
      },
      {
         "cell_type": "code",
         "execution_count": null,
         "metadata": {},
         "outputs": [],
         "source": [
            "# test_features = [\"num_release_this_W\", \"num_release_this_M\", \"num_release_this_Y\", \"num_release_this_W_of_this_genre\", \"num_release_this_M_of_this_genre\", \"num_release_this_Y_of_this_genre\"]\n",
            "test_features = [\"num_release_this_W_of_this_genre\",  \"num_release_this_Y_of_this_genre\"]\n",
            "control_features = [\"adj_budget\", \"popularity\", \"vote_average\", \"vote_count\", \"num_release_this_W\", \"num_release_this_Y\"]\n",
            "target_features = [\"is_bomb_profit\", \"is_bomb_reviews\"]\n",
            "\n",
            "# Get the features\n",
            "x = df_movies_rd[test_features + control_features + target_features]\n",
            "x.dropna(inplace=True)\n",
            "\n",
            "y_profit = x[\"is_bomb_profit\"]\n",
            "y_reviews = x[\"is_bomb_reviews\"]\n",
            "x = x[test_features + control_features].astype(np.float32)\n",
            "for f in x.columns:\n",
            "    x[f] = (x[f] - x[f].min()) / (x[f].max() - x[f].min())\n",
            "\n",
            "# Cast to float32\n",
            "x = x.astype(np.float32)\n",
            "y_reviews = y_reviews.astype(np.float32)\n",
            "y_profit = y_profit.astype(np.float32)\n",
            "\n",
            "# Fit the model\n",
            "x =sm.add_constant(x)\n",
            "print(len(x))"
         ]
      },
      {
         "cell_type": "markdown",
         "metadata": {},
         "source": [
            "##### Linear model that predict bombs based on profit"
         ]
      },
      {
         "cell_type": "code",
         "execution_count": null,
         "metadata": {},
         "outputs": [],
         "source": [
            "model = sm.OLS(y_profit, x).fit()\n",
            "model.summary()"
         ]
      },
      {
         "cell_type": "markdown",
         "metadata": {},
         "source": [
            "##### Linear model that predict bombs based on reviews"
         ]
      },
      {
         "cell_type": "code",
         "execution_count": null,
         "metadata": {},
         "outputs": [],
         "source": [
            "model = sm.OLS(y_reviews, x).fit()\n",
            "model.summary()"
         ]
      },
      {
         "cell_type": "markdown",
         "metadata": {},
         "source": [
            "Both models seem to capture some relationship between the features and the targets because their F-statistics are significant. In both models, grouping by genres do not seem to help, but no grouping provides significant features (the number of movies released in the same year and week). This means that the competition effect makes a movie more likely to fail (beacause the coefficients are positive)."
         ]
      },
      {
         "cell_type": "markdown",
         "metadata": {},
         "source": []
      },
      {
         "cell_type": "markdown",
         "metadata": {},
         "source": [
            "### Quick study of the plots"
         ]
      },
      {
         "cell_type": "markdown",
         "metadata": {},
         "source": [
            "In that part we used a pretrained language model in order to extract embeddings from movie plots.\n",
            "\n",
            "We hoped that we could extract relevent informations from those embeddings. We first trained a SVM on the embeddings to predict if a movie is a bomb or not. The result was not conclusive.\n",
            "\n",
            "Then we represented the embeddings in two dimensions in order to see if we identify clusters"
         ]
      },
      {
         "cell_type": "code",
         "execution_count": null,
         "metadata": {},
         "outputs": [],
         "source": [
            "with open(\"../data/MovieSummaries/plots_embeddings_mpnet.pkl\", \"rb\") as f:\n",
            "    plot_embeddings_mapping = pickle.load(f)\n",
            "\n",
            "plots_df = get_plot_summaries()\n",
            "plots_df = plots_df.merge(df_movies[[\"wiki_id\", \"is_bomb_profit\", \"is_bomb_reviews\", \"genres\"]], on=\"wiki_id\")"
         ]
      },
      {
         "cell_type": "code",
         "execution_count": null,
         "metadata": {},
         "outputs": [],
         "source": [
            "# Get a 2D representation of the plot embeddings\n",
            "pca = PCA(n_components=2)\n",
            "keys, embeddings = [], []\n",
            "for k, e in plot_embeddings_mapping.items():\n",
            "    keys.append(k)\n",
            "    embeddings.append(e)\n",
            "\n",
            "fitted_repr = pca.fit_transform(embeddings)\n",
            "print(\"Explained variance ratio\", sum(pca.explained_variance_ratio_))\n",
            "\n",
            "plot_embeddings_mapping_x = {}\n",
            "plot_embeddings_mapping_y = {}\n",
            "for key, e in zip(keys, fitted_repr):\n",
            "    plot_embeddings_mapping_x[key] = e[0]\n",
            "    plot_embeddings_mapping_y[key] = e[1]\n",
            "\n",
            "plots_df[\"x\"] = plots_df[\"wiki_id\"].map(plot_embeddings_mapping_x)\n",
            "plots_df[\"y\"] = plots_df[\"wiki_id\"].map(plot_embeddings_mapping_y)\n"
         ]
      },
      {
         "cell_type": "code",
         "execution_count": null,
         "metadata": {},
         "outputs": [],
         "source": [
            "# Plot the 2D representation of the plot embeddings\n",
            "plots_df.plot.scatter(x=\"x\", y=\"y\", figsize=(10, 10))\n",
            "plt.show()"
         ]
      },
      {
         "cell_type": "code",
         "execution_count": null,
         "metadata": {},
         "outputs": [],
         "source": [
            "# Color by box office bomb\n",
            "fig = plt.figure(figsize=(10, 10))\n",
            "plots_df[plots_df[\"is_bomb_profit\"]].plot.scatter(x=\"x\", y=\"y\", color=\"red\", ax=fig.gca())\n",
            "plots_df[~plots_df[\"is_bomb_profit\"]].plot.scatter(x=\"x\", y=\"y\", color=\"blue\", ax=fig.gca(), alpha=0.1)\n",
            "\n",
            "plt.show()"
         ]
      },
      {
         "cell_type": "markdown",
         "metadata": {},
         "source": [
            "We could not identify any obvious clusters, even after coloring the datapoints by our features (by genre, being a bomb or not, and by year)."
         ]
      },
      {
         "cell_type": "markdown",
         "metadata": {},
         "source": []
      },
      {
         "attachments": {},
         "cell_type": "markdown",
         "metadata": {},
         "source": [
            "### What about actors\n"
         ]
      },
      {
         "cell_type": "code",
         "execution_count": 181,
         "metadata": {},
         "outputs": [
            {
               "data": {
                  "text/plain": [
                     "Index(['wiki_id', 'movie_freebase_id', 'release_date', 'character_name',\n",
                     "       'actor_dob', 'actor_gender', 'actor_height', 'actor_ethnicity',\n",
                     "       'actor_name', 'actor_age', 'freebase_character_actor_map_id',\n",
                     "       'freebase_character_id', 'freebase_actor_id'],\n",
                     "      dtype='object')"
                  ]
               },
               "execution_count": 181,
               "metadata": {},
               "output_type": "execute_result"
            }
         ],
         "source": [
            "df_actors = get_characters()\n",
            "df_actors.columns"
         ]
      },
      {
         "cell_type": "code",
         "execution_count": 182,
         "metadata": {},
         "outputs": [
            {
               "data": {
                  "text/html": [
                     "<div>\n",
                     "<style scoped>\n",
                     "    .dataframe tbody tr th:only-of-type {\n",
                     "        vertical-align: middle;\n",
                     "    }\n",
                     "\n",
                     "    .dataframe tbody tr th {\n",
                     "        vertical-align: top;\n",
                     "    }\n",
                     "\n",
                     "    .dataframe thead th {\n",
                     "        text-align: right;\n",
                     "    }\n",
                     "</style>\n",
                     "<table border=\"1\" class=\"dataframe\">\n",
                     "  <thead>\n",
                     "    <tr style=\"text-align: right;\">\n",
                     "      <th></th>\n",
                     "      <th>wiki_id</th>\n",
                     "      <th>movie_freebase_id</th>\n",
                     "      <th>release_date</th>\n",
                     "      <th>character_name</th>\n",
                     "      <th>actor_dob</th>\n",
                     "      <th>actor_gender</th>\n",
                     "      <th>actor_height</th>\n",
                     "      <th>actor_ethnicity</th>\n",
                     "      <th>actor_name</th>\n",
                     "      <th>actor_age</th>\n",
                     "      <th>freebase_character_actor_map_id</th>\n",
                     "      <th>freebase_character_id</th>\n",
                     "      <th>freebase_actor_id</th>\n",
                     "      <th>is_bomb_profit</th>\n",
                     "      <th>is_bomb_reviews</th>\n",
                     "      <th>nb_bomb_reviews</th>\n",
                     "    </tr>\n",
                     "  </thead>\n",
                     "  <tbody>\n",
                     "    <tr>\n",
                     "      <th>0</th>\n",
                     "      <td>975900</td>\n",
                     "      <td>/m/03vyhn</td>\n",
                     "      <td>2001-08-24</td>\n",
                     "      <td>Akooshay</td>\n",
                     "      <td>1958-08-26</td>\n",
                     "      <td>F</td>\n",
                     "      <td>1.620</td>\n",
                     "      <td>NaN</td>\n",
                     "      <td>Wanda De Jesus</td>\n",
                     "      <td>42.0</td>\n",
                     "      <td>/m/0bgchxw</td>\n",
                     "      <td>/m/0bgcj3x</td>\n",
                     "      <td>/m/03wcfv7</td>\n",
                     "      <td>True</td>\n",
                     "      <td>False</td>\n",
                     "      <td>0.0</td>\n",
                     "    </tr>\n",
                     "    <tr>\n",
                     "      <th>1</th>\n",
                     "      <td>975900</td>\n",
                     "      <td>/m/03vyhn</td>\n",
                     "      <td>2001-08-24</td>\n",
                     "      <td>Lieutenant Melanie Ballard</td>\n",
                     "      <td>1974-08-15</td>\n",
                     "      <td>F</td>\n",
                     "      <td>1.780</td>\n",
                     "      <td>/m/044038p</td>\n",
                     "      <td>Natasha Henstridge</td>\n",
                     "      <td>27.0</td>\n",
                     "      <td>/m/0jys3m</td>\n",
                     "      <td>/m/0bgchn4</td>\n",
                     "      <td>/m/0346l4</td>\n",
                     "      <td>True</td>\n",
                     "      <td>False</td>\n",
                     "      <td>1.0</td>\n",
                     "    </tr>\n",
                     "    <tr>\n",
                     "      <th>2</th>\n",
                     "      <td>975900</td>\n",
                     "      <td>/m/03vyhn</td>\n",
                     "      <td>2001-08-24</td>\n",
                     "      <td>Desolation Williams</td>\n",
                     "      <td>1969-06-15</td>\n",
                     "      <td>M</td>\n",
                     "      <td>1.727</td>\n",
                     "      <td>/m/0x67</td>\n",
                     "      <td>Ice Cube</td>\n",
                     "      <td>32.0</td>\n",
                     "      <td>/m/0jys3g</td>\n",
                     "      <td>/m/0bgchn_</td>\n",
                     "      <td>/m/01vw26l</td>\n",
                     "      <td>True</td>\n",
                     "      <td>False</td>\n",
                     "      <td>0.0</td>\n",
                     "    </tr>\n",
                     "    <tr>\n",
                     "      <th>3</th>\n",
                     "      <td>975900</td>\n",
                     "      <td>/m/03vyhn</td>\n",
                     "      <td>2001-08-24</td>\n",
                     "      <td>Sgt Jericho Butler</td>\n",
                     "      <td>1967-09-12</td>\n",
                     "      <td>M</td>\n",
                     "      <td>1.750</td>\n",
                     "      <td>NaN</td>\n",
                     "      <td>Jason Statham</td>\n",
                     "      <td>33.0</td>\n",
                     "      <td>/m/02vchl6</td>\n",
                     "      <td>/m/0bgchnq</td>\n",
                     "      <td>/m/034hyc</td>\n",
                     "      <td>True</td>\n",
                     "      <td>False</td>\n",
                     "      <td>1.0</td>\n",
                     "    </tr>\n",
                     "    <tr>\n",
                     "      <th>4</th>\n",
                     "      <td>975900</td>\n",
                     "      <td>/m/03vyhn</td>\n",
                     "      <td>2001-08-24</td>\n",
                     "      <td>Bashira Kincaid</td>\n",
                     "      <td>1977-09-25</td>\n",
                     "      <td>F</td>\n",
                     "      <td>1.650</td>\n",
                     "      <td>NaN</td>\n",
                     "      <td>Clea DuVall</td>\n",
                     "      <td>23.0</td>\n",
                     "      <td>/m/02vbb3r</td>\n",
                     "      <td>/m/0bgchp9</td>\n",
                     "      <td>/m/01y9xg</td>\n",
                     "      <td>True</td>\n",
                     "      <td>False</td>\n",
                     "      <td>2.0</td>\n",
                     "    </tr>\n",
                     "  </tbody>\n",
                     "</table>\n",
                     "</div>"
                  ],
                  "text/plain": [
                     "   wiki_id movie_freebase_id release_date              character_name  \\\n",
                     "0   975900         /m/03vyhn   2001-08-24                    Akooshay   \n",
                     "1   975900         /m/03vyhn   2001-08-24  Lieutenant Melanie Ballard   \n",
                     "2   975900         /m/03vyhn   2001-08-24         Desolation Williams   \n",
                     "3   975900         /m/03vyhn   2001-08-24          Sgt Jericho Butler   \n",
                     "4   975900         /m/03vyhn   2001-08-24             Bashira Kincaid   \n",
                     "\n",
                     "    actor_dob actor_gender  actor_height actor_ethnicity          actor_name  \\\n",
                     "0  1958-08-26            F         1.620             NaN      Wanda De Jesus   \n",
                     "1  1974-08-15            F         1.780      /m/044038p  Natasha Henstridge   \n",
                     "2  1969-06-15            M         1.727         /m/0x67            Ice Cube   \n",
                     "3  1967-09-12            M         1.750             NaN       Jason Statham   \n",
                     "4  1977-09-25            F         1.650             NaN         Clea DuVall   \n",
                     "\n",
                     "   actor_age freebase_character_actor_map_id freebase_character_id  \\\n",
                     "0       42.0                      /m/0bgchxw            /m/0bgcj3x   \n",
                     "1       27.0                       /m/0jys3m            /m/0bgchn4   \n",
                     "2       32.0                       /m/0jys3g            /m/0bgchn_   \n",
                     "3       33.0                      /m/02vchl6            /m/0bgchnq   \n",
                     "4       23.0                      /m/02vbb3r            /m/0bgchp9   \n",
                     "\n",
                     "  freebase_actor_id  is_bomb_profit  is_bomb_reviews  nb_bomb_reviews  \n",
                     "0        /m/03wcfv7            True            False              0.0  \n",
                     "1         /m/0346l4            True            False              1.0  \n",
                     "2        /m/01vw26l            True            False              0.0  \n",
                     "3         /m/034hyc            True            False              1.0  \n",
                     "4         /m/01y9xg            True            False              2.0  "
                  ]
               },
               "execution_count": 182,
               "metadata": {},
               "output_type": "execute_result"
            }
         ],
         "source": [
            "df_actors = df_actors.merge(df_movies[[\"wiki_id\", \"is_bomb_profit\", \"is_bomb_reviews\"]], on=\"wiki_id\") \n",
            "df_actors[\"nb_bomb_reviews\"] = df_actors.groupby([\"actor_name\", \"actor_dob\"])[\"is_bomb_reviews\"].transform(\"sum\")\n",
            "df_actors.head(5)"
         ]
      },
      {
         "cell_type": "code",
         "execution_count": 8,
         "metadata": {},
         "outputs": [
            {
               "data": {
                  "text/plain": [
                     "<AxesSubplot: >"
                  ]
               },
               "execution_count": 8,
               "metadata": {},
               "output_type": "execute_result"
            },
            {
               "data": {
                  "image/png": "[encoded data removed]",
                  "text/plain": [
                     "<Figure size 640x480 with 1 Axes>"
                  ]
               },
               "metadata": {},
               "output_type": "display_data"
            }
         ],
         "source": [
            "df_actors[\"nb_bomb_reviews\"].hist(bins=100)"
         ]
      },
      {
         "cell_type": "code",
         "execution_count": 9,
         "metadata": {},
         "outputs": [],
         "source": [
            "df_actors[\"release_date\"] = pd.to_datetime(df_actors[\"release_date\"], format=\"%Y-%m-%d\", errors=\"coerce\")\n",
            "df_movies[\"release_date\"] = pd.to_datetime(df_movies[\"release_date\"], format=\"%Y-%m-%d\", errors=\"coerce\")"
         ]
      },
      {
         "cell_type": "code",
         "execution_count": null,
         "metadata": {},
         "outputs": [],
         "source": [
            "print(len(df_actors))\n",
            "counter = 0\n",
            "# Number of movie bombs before the movie\n",
            "def count_bombs_before(row):\n",
            "    global counter\n",
            "    counter += 1\n",
            "    if counter % 1000 == 0:\n",
            "        print(counter, f\"{counter/232316*100:.3f}%\", end=\"\\r\")\n",
            "    date_of_release = row[\"release_date\"]\n",
            "    movies_before = df_actors[[\"actor_name\", \"actor_dob\", \"release_date\", \"is_bomb_reviews\"]][(df_actors[\"actor_name\"] == row[\"actor_name\"]) & (df_actors[\"actor_dob\"] == row[\"actor_dob\"])]\n",
            "    count = movies_before[movies_before[\"release_date\"] < date_of_release][\"is_bomb_reviews\"].sum()\n",
            "    return count\n",
            "df_actors[\"nb_bomb_reviews_before\"] = df_actors.apply(count_bombs_before, axis=1)"
         ]
      },
      {
         "cell_type": "code",
         "execution_count": null,
         "metadata": {},
         "outputs": [],
         "source": [
            "# Does the number of bombs before the movie affect the number of bombs after the movie?\n",
            "# df_actors[\"nb_bomb_reviews_before\"].hist(bins=100)\n",
            "df_actors[[\"nb_bomb_reviews_before\", \"is_bomb_reviews\"]].corr()\n"
         ]
      },
      {
         "cell_type": "code",
         "execution_count": 19,
         "metadata": {},
         "outputs": [
            {
               "data": {
                  "text/plain": [
                     "Index(['wiki_id', 'movie_freebase_id', 'release_date', 'character_name',\n",
                     "       'actor_dob', 'actor_gender', 'actor_height', 'actor_ethnicity',\n",
                     "       'actor_name', 'actor_age', 'freebase_character_actor_map_id',\n",
                     "       'freebase_character_id', 'freebase_actor_id', 'is_bomb_profit',\n",
                     "       'is_bomb_reviews', 'nb_bomb_reviews'],\n",
                     "      dtype='object')"
                  ]
               },
               "execution_count": 19,
               "metadata": {},
               "output_type": "execute_result"
            }
         ],
         "source": [
            "df_actors.columns"
         ]
      },
      {
         "cell_type": "code",
         "execution_count": 38,
         "metadata": {},
         "outputs": [],
         "source": [
            "# Number of movie bombs before the movie\n",
            "actors = df_actors.groupby([\"freebase_actor_id\"])\n",
            "nb_after = []\n",
            "for actor, actor_df in actors:\n",
            "    if actor_df.is_bomb_reviews.sum() == 1:\n",
            "        actor_df = actor_df.sort_values(\"release_date\")[\"is_bomb_reviews\"].values\n",
            "        index_of_bomb = np.where(actor_df)[0][-1]\n",
            "        nb_after.append(len(actor_df) - index_of_bomb - 1)\n"
         ]
      },
      {
         "cell_type": "code",
         "execution_count": 39,
         "metadata": {},
         "outputs": [
            {
               "name": "stdout",
               "output_type": "stream",
               "text": [
                  "1.9033723065030437\n",
                  "64\n",
                  "0\n"
               ]
            },
            {
               "data": {
                  "image/png": "[encoded data removed]",
                  "text/plain": [
                     "<Figure size 640x480 with 1 Axes>"
                  ]
               },
               "metadata": {},
               "output_type": "display_data"
            }
         ],
         "source": [
            "print(np.mean(nb_after))\n",
            "print(np.max(nb_after))\n",
            "print(np.min(nb_after))\n",
            "plt.hist(nb_after, bins=80, density=True)\n",
            "plt.show()"
         ]
      },
      {
         "cell_type": "code",
         "execution_count": null,
         "metadata": {},
         "outputs": [],
         "source": [
            "# Has is ended their career?\n",
            "df_actors[\"nb_movie\"] = df_actors.groupby([\"actor_name\", \"actor_dob\"])[\"wiki_id\"].transform(\"count\")\n",
            "\n",
            "# Colored histogram by having played in a bomb\n",
            "# In proportion\n",
            "fig = plt.figure(figsize=(10, 10))\n",
            "df_actors[df_actors[\"is_bomb_reviews\"]].nb_movie.hist(bins=100, ax=fig.gca(), color=\"red\", density=True, alpha=0.3)\n",
            "df_actors[~df_actors[\"is_bomb_reviews\"]].nb_movie.hist(bins=100, ax=fig.gca(), color=\"blue\", alpha=0.3, density=True)"
         ]
      },
      {
         "cell_type": "code",
         "execution_count": null,
         "metadata": {},
         "outputs": [],
         "source": [
            "from scipy.stats import ttest_ind\n",
            "\n",
            "print(df_actors[df_actors[\"is_bomb_reviews\"]].nb_movie.mean())\n",
            "print(df_actors[~df_actors[\"is_bomb_reviews\"]].nb_movie.mean())\n",
            "\n",
            "print(ttest_ind(df_actors[df_actors[\"is_bomb_reviews\"]].nb_movie.dropna(), df_actors[~df_actors[\"is_bomb_reviews\"]].nb_movie.dropna()))\n"
         ]
      }
   ],
   "metadata": {
      "kernelspec": {
         "display_name": "Python 3.10.6 ('MLenv')",
         "language": "python",
         "name": "python3"
      },
      "language_info": {
         "codemirror_mode": {
            "name": "ipython",
            "version": 3
         },
         "file_extension": ".py",
         "mimetype": "text/x-python",
         "name": "python",
         "nbconvert_exporter": "python",
         "pygments_lexer": "ipython3",
         "version": "3.10.6"
      },
      "orig_nbformat": 4,
      "vscode": {
         "interpreter": {
            "hash": "b7cff3fa8038d9ce9c7f0d17d7d06ee57623d2ebc09a630120a87a11f95d020b"
         }
      }
   },
   "nbformat": 4,
   "nbformat_minor": 2
}
