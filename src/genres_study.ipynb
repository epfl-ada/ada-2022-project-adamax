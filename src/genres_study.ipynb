{
 "cells": [
  {
   "cell_type": "code",
   "execution_count": 1,
   "metadata": {},
   "outputs": [],
   "source": [
    "import numpy as np\n",
    "import pandas as pd\n",
    "import matplotlib.pyplot as plt\n",
    "import seaborn as sns\n",
    "import math\n",
    "from helpers import *"
   ]
  },
  {
   "cell_type": "code",
   "execution_count": 2,
   "metadata": {},
   "outputs": [
    {
     "name": "stderr",
     "output_type": "stream",
     "text": [
      "/opt/conda/lib/python3.7/site-packages/ipykernel_launcher.py:1: DtypeWarning: Columns (11) have mixed types.Specify dtype option on import or set low_memory=False.\n",
      "  \"\"\"Entry point for launching an IPython kernel.\n"
     ]
    }
   ],
   "source": [
    "movies = get_movies()\n",
    "movies.head()\n",
    "genres = movies[\"genres\"]"
   ]
  },
  {
   "cell_type": "code",
   "execution_count": 3,
   "metadata": {},
   "outputs": [
    {
     "name": "stdout",
     "output_type": "stream",
     "text": [
      "356\n",
      "101\n"
     ]
    }
   ],
   "source": [
    "genres = []\n",
    "for g in movies.genres:\n",
    "    for genre in g:\n",
    "        if (genre not in genres and len(genre) > 0 and genre != \"Film\" ):\n",
    "            genres.append(genre)\n",
    "\n",
    "genres_1word = []\n",
    "for g in genres:\n",
    "    if (len(g.split(\" \")) == 1 and len(g.split(\"/\")) == 1 and len(g.split(\"-\")) == 1):\n",
    "        genres_1word.append(g) \n",
    "\n",
    "print(len(genres))\n",
    "print(len(genres_1word))"
   ]
  },
  {
   "cell_type": "code",
   "execution_count": 4,
   "metadata": {},
   "outputs": [
    {
     "name": "stdout",
     "output_type": "stream",
     "text": [
      "['Absurdism', 'Action', 'Adult', 'Adventure', 'Airplanes and airports', 'Albino bias', 'Alien Film', 'Alien invasion', 'Americana', 'Animal Picture', 'Animals', 'Animated cartoon', 'Animation', 'Anime', 'Anthology', 'Anthropology', 'Apocalyptic and post-apocalyptic fiction', 'Archaeology', 'Archives and records', 'Art film', 'Auto racing', 'Avant-garde', 'B-movie', 'Baseball', 'Beach Film', 'Beach Party film', 'Bengali Cinema', 'Biker Film', 'Biographical film', 'Biography', 'Biopic [feature]', 'Black-and-white', 'Blaxploitation', 'Bloopers & Candid Camera', 'Bollywood', 'Boxing', 'Breakdance', 'British Empire Film', 'British New Wave', 'Bruceploitation', 'Buddy Picture', 'Buddy cop', 'Buddy film', 'Business', 'Camp', 'Caper story', 'Cavalry Film', 'Chase Movie', 'Chick flick', \"Children's\", 'Chinese Movies', 'Christian film', 'Christmas movie', 'Combat Films', 'Comdedy', 'Comedy', 'Coming of age', 'Coming-of-age film', 'Computers', 'Concert film', 'Conspiracy fiction', 'Creature Film', 'Crime', 'Cult', 'Cyberpunk', 'Czechoslovak New Wave', 'Dance', 'Demonic child', 'Detective', 'Disaster', 'Docudrama', 'Documentary', 'Dogme 95', 'Doomsday film', 'Drama', 'Dystopia', 'Ealing Comedies', 'Early Black Cinema', 'Education', 'Educational', 'Ensemble Film', 'Environmental Science', 'Epic', 'Erotica', 'Escape Film', 'Essay Film', 'Existentialism', 'Experimental film', 'Exploitation', 'Expressionism', 'Fairy tale', 'Family', 'Fan film', 'Fantasy', 'Feature film', 'Feminist Film', 'Fictional film', 'Filipino Movies', 'Film adaptation', 'Film noir', 'Film à clef', 'Film-Opera', 'Filmed Play', 'Finance & Investing', 'Foreign', 'Future noir', 'Gangster Film', 'Gay', 'Gender Issues', 'Giallo', 'Goat gland', 'Gothic Film', 'Graphic & Applied Arts', 'Gross out', 'Gross-out film', 'Hagiography', 'Haunted House Film', 'Health & Fitness', 'Heaven-Can-Wait Fantasies', 'Heist', 'Hip hop movies', 'Historical Documentaries', 'Historical fiction', 'History', 'Holiday Film', 'Homoeroticism', 'Horror', 'Horse racing', 'Humour', 'Illnesses & Disabilities', 'Indie', 'Interpersonal Relationships', 'Inventions & Innovations', 'Japanese Movies', 'Journalism', 'Jungle Film', 'Juvenile Delinquency Film', 'Kafkaesque', 'Kitchen sink realism', 'LGBT', 'Language & Literature', 'Latino', 'Libraries and librarians', 'Malayalam Cinema', 'Martial Arts Film', 'Master Criminal Films', 'Media Studies', 'Medical fiction', 'Melodrama', 'Mockumentary', 'Mondo film', 'Monster', 'Movie serial', 'Movies About Gladiators', 'Mumblecore', 'Music', 'Musical', 'Mystery', 'Nature', 'Neo-noir', 'New Hollywood', 'News', 'Ninja movie', 'Northern', 'Operetta', 'Outlaw', 'Parody', 'Period piece', 'Pinku eiga', 'Plague', 'Point of view shot', 'Political Documetary', 'Political cinema', 'Pornographic movie', 'Pornography', 'Pre-Code', 'Prison', 'Private military company', 'Propaganda film', 'Psycho-biddy', 'Punk rock', 'Race movie', 'Reboot', 'Religious Film', 'Remake', 'Revenge', 'Road movie', 'Roadshow theatrical release', 'Roadshow/Carny', 'Rockumentary', 'Romance', 'Samurai cinema', 'Satire', 'School story', 'Sci Fi Pictures original films', 'Science Fiction', 'Sexploitation', 'Short Film', 'Silent film', 'Singing cowboy', 'Slapstick', 'Slasher', 'Slice of life story', 'Social issues', 'Social problem film', 'Softcore Porn', 'Space opera', 'Splatter film', 'Sports', 'Spy', 'Star vehicle', 'Statutory rape', 'Steampunk', 'Stoner film', 'Stop motion', 'Superhero', 'Supermarionation', 'Supernatural', 'Surrealism', 'Suspense', 'Swashbuckler films', 'Sword and Sandal', 'Sword and sorcery', 'TV Movie', 'Tamil cinema', 'Teen', 'Television movie', 'Thriller', 'Tokusatsu', 'Tollywood', 'Tragedy', 'Tragicomedy', 'Travel', 'Vampire movies', 'War', 'Werewolf fiction', 'Western', 'Whodunit', 'World cinema', 'Wuxia', 'Z movie', 'Zombie Film']\n",
      "242\n"
     ]
    }
   ],
   "source": [
    "for g in genres:\n",
    "    notin = True\n",
    "    for g1 in genres_1word:\n",
    "        if g.lower().__contains__(g1.lower()):\n",
    "            notin = False\n",
    "    if notin:\n",
    "        genres_1word.append(g) \n",
    "\n",
    "genres_1word.sort()\n",
    "print(genres_1word)\n",
    "print(len(genres_1word))"
   ]
  },
  {
   "cell_type": "code",
   "execution_count": 5,
   "metadata": {},
   "outputs": [
    {
     "name": "stdout",
     "output_type": "stream",
     "text": [
      "War\n"
     ]
    }
   ],
   "source": [
    "for g in genres_1word:\n",
    "    if (g.lower().__contains__(\"war\")):\n",
    "        print(g)"
   ]
  },
  {
   "cell_type": "code",
   "execution_count": 6,
   "metadata": {},
   "outputs": [],
   "source": [
    "dict_similar = {\"Porn\": [\"Pornographic movie\", \"Pornography\", \"Softcore Porn\"], \n",
    "                \"LGBT\": [\"New Queer Cinema\", \"Gay\", \"Homoeroticism\"],\n",
    "                \"Coming of age\": [\"Coming-of-age film\"], \"Erotica\": [\"Homoeroticism\"], \n",
    "                \"Comedy\": [\"Humour\", \"Tragicomedy\", \"Ealing Comedies\", \"Comdedy\"], \n",
    "                \"Language & Literature\": [\"& Literature\"], \n",
    "                \"Drama\": [\"Melodrama\", \"Tragedy\", \"Tragicomedy\", \"Docudrama\"], \n",
    "                \"Documentary\": [\"Political Documetary\", \"Docudrama\", \"Historical Documentaries\", \"Rockumentary\"], \n",
    "                \"Social issues\": [\"Social problem film\"], \n",
    "                \"War film\": [\"War effort\", \"The Netherlands in World War II\", \"Gulf War\", \"Combat Films\"],\n",
    "                \"Alien Film\": [\"Alien invasion\"],\n",
    "                \"Animation\": [\"Animated cartoon\"],\n",
    "                \"Family & Personal Relationships\": [\"Family Film\", \"Interpersonal Relationship\"],\n",
    "                \"Gross out\": [\"Gross-out Film\"],\n",
    "                \"Dance\": [\"Hip hop movies\", \"Breakdance\"],\n",
    "                \"History\": [\"Historical Documentaries\"],\n",
    "                \"Political cinema\": [\"Political Documentary\"],\n",
    "                \"Science Fiction\": [\"Sci Fi Picture original film\"],\n",
    "                \"Buddy film\": [\"Buddy Picture\", \"Buddy cop\"],\n",
    "                \"Music\": [\"Concert film\", \"Film-Opera\", \"Operetta\", \"Punk rock\", \"Rockumentary\", \"Space opera\"], #Should we add Musical here?\n",
    "                \"Animals\": [\"Animal Picture\"],\n",
    "                \"Religious Film\": [\"Christian film\"],\n",
    "                \"Master Criminal Films\": [\"Heist\", \"Gangster Film\"],\n",
    "                \"Film à clé\": [\"Film \\\\u00e0 clef\"],\n",
    "                \"Biographical film\": [\"Biography\", \"Biopic [feature]\"],\n",
    "                \"Beach Film\": [\"Beach Party film\"],\n",
    "                \"World cinema\": [\"Chinese Movies\", \"Japanese Movies\", \"Latino\", \"\"],\n",
    "                \"Musical\": [\"Singing cowboy\"],\n",
    "                \"Western\": [\"Singing cowboy\"]\n",
    "            }"
   ]
  },
  {
   "cell_type": "code",
   "execution_count": 7,
   "metadata": {},
   "outputs": [
    {
     "name": "stdout",
     "output_type": "stream",
     "text": [
      "['Absurdism', 'Action', 'Adult', 'Adventure', 'Airplanes and airports', 'Albino bias', 'Alien Film', 'Americana', 'Animals', 'Animation', 'Anime', 'Anthology', 'Anthropology', 'Apocalyptic and post-apocalyptic fiction', 'Archaeology', 'Archives and records', 'Art film', 'Auto racing', 'Avant-garde', 'B-movie', 'Baseball', 'Beach Film', 'Bengali Cinema', 'Biker Film', 'Biographical film', 'Black-and-white', 'Blaxploitation', 'Bloopers & Candid Camera', 'Bollywood', 'Boxing', 'British Empire Film', 'British New Wave', 'Bruceploitation', 'Buddy film', 'Business', 'Camp', 'Caper story', 'Cavalry Film', 'Chase Movie', 'Chick flick', \"Children's\", 'Christmas movie', 'Comedy', 'Coming of age', 'Computers', 'Conspiracy fiction', 'Creature Film', 'Crime', 'Cult', 'Cyberpunk', 'Czechoslovak New Wave', 'Dance', 'Demonic child', 'Detective', 'Disaster', 'Documentary', 'Dogme 95', 'Doomsday film', 'Drama', 'Dystopia', 'Early Black Cinema', 'Education', 'Educational', 'Ensemble Film', 'Environmental Science', 'Epic', 'Erotica', 'Escape Film', 'Essay Film', 'Existentialism', 'Experimental film', 'Exploitation', 'Expressionism', 'Fairy tale', 'Family', 'Family & Personal Relationships', 'Fan film', 'Fantasy', 'Feature film', 'Feminist Film', 'Fictional film', 'Filipino Movies', 'Film adaptation', 'Film noir', 'Film à clef', 'Film à clé', 'Filmed Play', 'Finance & Investing', 'Foreign', 'Future noir', 'Gender Issues', 'Giallo', 'Goat gland', 'Gothic Film', 'Graphic & Applied Arts', 'Gross out', 'Gross-out film', 'Hagiography', 'Haunted House Film', 'Health & Fitness', 'Heaven-Can-Wait Fantasies', 'Historical fiction', 'History', 'Holiday Film', 'Horror', 'Horse racing', 'Illnesses & Disabilities', 'Indie', 'Interpersonal Relationships', 'Inventions & Innovations', 'Journalism', 'Jungle Film', 'Juvenile Delinquency Film', 'Kafkaesque', 'Kitchen sink realism', 'LGBT', 'Language & Literature', 'Libraries and librarians', 'Malayalam Cinema', 'Martial Arts Film', 'Master Criminal Films', 'Media Studies', 'Medical fiction', 'Mockumentary', 'Mondo film', 'Monster', 'Movie serial', 'Movies About Gladiators', 'Mumblecore', 'Music', 'Musical', 'Mystery', 'Nature', 'Neo-noir', 'New Hollywood', 'News', 'Ninja movie', 'Northern', 'Outlaw', 'Parody', 'Period piece', 'Pinku eiga', 'Plague', 'Point of view shot', 'Political cinema', 'Porn', 'Pre-Code', 'Prison', 'Private military company', 'Propaganda film', 'Psycho-biddy', 'Race movie', 'Reboot', 'Religious Film', 'Remake', 'Revenge', 'Road movie', 'Roadshow theatrical release', 'Roadshow/Carny', 'Romance', 'Samurai cinema', 'Satire', 'School story', 'Sci Fi Pictures original films', 'Science Fiction', 'Sexploitation', 'Short Film', 'Silent film', 'Slapstick', 'Slasher', 'Slice of life story', 'Social issues', 'Splatter film', 'Sports', 'Spy', 'Star vehicle', 'Statutory rape', 'Steampunk', 'Stoner film', 'Stop motion', 'Superhero', 'Supermarionation', 'Supernatural', 'Surrealism', 'Suspense', 'Swashbuckler films', 'Sword and Sandal', 'Sword and sorcery', 'TV Movie', 'Tamil cinema', 'Teen', 'Television movie', 'Thriller', 'Tokusatsu', 'Tollywood', 'Travel', 'Vampire movies', 'War', 'War film', 'Werewolf fiction', 'Western', 'Whodunit', 'World cinema', 'Wuxia', 'Z movie', 'Zombie Film']\n",
      "206\n"
     ]
    }
   ],
   "source": [
    "for d in dict_similar:\n",
    "    genres_1word.append(d)\n",
    "    a = dict_similar[d]\n",
    "    for dd in a:\n",
    "        if (dd in genres_1word):\n",
    "            genres_1word.remove(dd)\n",
    "\n",
    "main_genres = list(dict.fromkeys(genres_1word))\n",
    "main_genres.sort()\n",
    "\n",
    "print(main_genres)\n",
    "print(len(main_genres))"
   ]
  },
  {
   "cell_type": "code",
   "execution_count": 8,
   "metadata": {},
   "outputs": [],
   "source": [
    "def movie_has_genre(genresMovies, genre, dict_similar):\n",
    "    array_genresMovies = genresMovies\n",
    "    # We check if the genre is in the movie's genres\n",
    "    for gm in array_genresMovies:\n",
    "        if gm.lower().__contains__(genre.lower()):\n",
    "            return 1\n",
    "    # We also look in the genres we have grouped\n",
    "    if (genre in dict_similar.keys()):\n",
    "        for g in dict_similar[genre]:\n",
    "            if g in array_genresMovies:\n",
    "                return 1\n",
    "    return 0\n",
    "            "
   ]
  },
  {
   "cell_type": "code",
   "execution_count": 9,
   "metadata": {},
   "outputs": [
    {
     "name": "stderr",
     "output_type": "stream",
     "text": [
      "/opt/conda/lib/python3.7/site-packages/ipykernel_launcher.py:4: SettingWithCopyWarning: \n",
      "A value is trying to be set on a copy of a slice from a DataFrame.\n",
      "Try using .loc[row_indexer,col_indexer] = value instead\n",
      "\n",
      "See the caveats in the documentation: https://pandas.pydata.org/pandas-docs/stable/user_guide/indexing.html#returning-a-view-versus-a-copy\n",
      "  after removing the cwd from sys.path.\n",
      "/opt/conda/lib/python3.7/site-packages/ipykernel_launcher.py:4: PerformanceWarning: DataFrame is highly fragmented.  This is usually the result of calling `frame.insert` many times, which has poor performance.  Consider joining all columns at once using pd.concat(axis=1) instead.  To get a de-fragmented frame, use `newframe = frame.copy()`\n",
      "  after removing the cwd from sys.path.\n"
     ]
    }
   ],
   "source": [
    "movies_and_genres_df = movies[[\"wiki_id\", \"freebase_id\", \"name\"]]\n",
    "\n",
    "for genre in main_genres:\n",
    "    movies_and_genres_df[genre] = movies[\"genres\"].apply(lambda x: movie_has_genre(x, genre, dict_similar))\n"
   ]
  },
  {
   "cell_type": "code",
   "execution_count": 10,
   "metadata": {},
   "outputs": [
    {
     "name": "stdout",
     "output_type": "stream",
     "text": [
      "26011\n"
     ]
    },
    {
     "data": {
      "text/html": [
       "<div>\n",
       "<style scoped>\n",
       "    .dataframe tbody tr th:only-of-type {\n",
       "        vertical-align: middle;\n",
       "    }\n",
       "\n",
       "    .dataframe tbody tr th {\n",
       "        vertical-align: top;\n",
       "    }\n",
       "\n",
       "    .dataframe thead th {\n",
       "        text-align: right;\n",
       "    }\n",
       "</style>\n",
       "<table border=\"1\" class=\"dataframe\">\n",
       "  <thead>\n",
       "    <tr style=\"text-align: right;\">\n",
       "      <th></th>\n",
       "      <th>wiki_id</th>\n",
       "      <th>freebase_id</th>\n",
       "      <th>name</th>\n",
       "      <th>Absurdism</th>\n",
       "      <th>Action</th>\n",
       "      <th>Adult</th>\n",
       "      <th>Adventure</th>\n",
       "      <th>Airplanes and airports</th>\n",
       "      <th>Albino bias</th>\n",
       "      <th>Alien Film</th>\n",
       "      <th>...</th>\n",
       "      <th>Vampire movies</th>\n",
       "      <th>War</th>\n",
       "      <th>War film</th>\n",
       "      <th>Werewolf fiction</th>\n",
       "      <th>Western</th>\n",
       "      <th>Whodunit</th>\n",
       "      <th>World cinema</th>\n",
       "      <th>Wuxia</th>\n",
       "      <th>Z movie</th>\n",
       "      <th>Zombie Film</th>\n",
       "    </tr>\n",
       "  </thead>\n",
       "  <tbody>\n",
       "    <tr>\n",
       "      <th>0</th>\n",
       "      <td>975900</td>\n",
       "      <td>/m/03vyhn</td>\n",
       "      <td>Ghosts of Mars</td>\n",
       "      <td>0</td>\n",
       "      <td>1</td>\n",
       "      <td>0</td>\n",
       "      <td>1</td>\n",
       "      <td>0</td>\n",
       "      <td>0</td>\n",
       "      <td>0</td>\n",
       "      <td>...</td>\n",
       "      <td>0</td>\n",
       "      <td>0</td>\n",
       "      <td>0</td>\n",
       "      <td>0</td>\n",
       "      <td>1</td>\n",
       "      <td>0</td>\n",
       "      <td>0</td>\n",
       "      <td>0</td>\n",
       "      <td>0</td>\n",
       "      <td>0</td>\n",
       "    </tr>\n",
       "    <tr>\n",
       "      <th>1</th>\n",
       "      <td>9363483</td>\n",
       "      <td>/m/0285_cd</td>\n",
       "      <td>White Of The Eye</td>\n",
       "      <td>0</td>\n",
       "      <td>0</td>\n",
       "      <td>0</td>\n",
       "      <td>0</td>\n",
       "      <td>0</td>\n",
       "      <td>0</td>\n",
       "      <td>0</td>\n",
       "      <td>...</td>\n",
       "      <td>0</td>\n",
       "      <td>0</td>\n",
       "      <td>0</td>\n",
       "      <td>0</td>\n",
       "      <td>0</td>\n",
       "      <td>0</td>\n",
       "      <td>0</td>\n",
       "      <td>0</td>\n",
       "      <td>0</td>\n",
       "      <td>0</td>\n",
       "    </tr>\n",
       "    <tr>\n",
       "      <th>2</th>\n",
       "      <td>6631279</td>\n",
       "      <td>/m/0gffwj</td>\n",
       "      <td>Little city</td>\n",
       "      <td>0</td>\n",
       "      <td>0</td>\n",
       "      <td>0</td>\n",
       "      <td>0</td>\n",
       "      <td>0</td>\n",
       "      <td>0</td>\n",
       "      <td>0</td>\n",
       "      <td>...</td>\n",
       "      <td>0</td>\n",
       "      <td>0</td>\n",
       "      <td>0</td>\n",
       "      <td>0</td>\n",
       "      <td>0</td>\n",
       "      <td>0</td>\n",
       "      <td>0</td>\n",
       "      <td>0</td>\n",
       "      <td>0</td>\n",
       "      <td>0</td>\n",
       "    </tr>\n",
       "    <tr>\n",
       "      <th>3</th>\n",
       "      <td>171005</td>\n",
       "      <td>/m/016ywb</td>\n",
       "      <td>Henry V</td>\n",
       "      <td>0</td>\n",
       "      <td>1</td>\n",
       "      <td>0</td>\n",
       "      <td>0</td>\n",
       "      <td>0</td>\n",
       "      <td>0</td>\n",
       "      <td>0</td>\n",
       "      <td>...</td>\n",
       "      <td>0</td>\n",
       "      <td>1</td>\n",
       "      <td>1</td>\n",
       "      <td>0</td>\n",
       "      <td>0</td>\n",
       "      <td>0</td>\n",
       "      <td>0</td>\n",
       "      <td>0</td>\n",
       "      <td>0</td>\n",
       "      <td>0</td>\n",
       "    </tr>\n",
       "    <tr>\n",
       "      <th>4</th>\n",
       "      <td>77856</td>\n",
       "      <td>/m/0kcn7</td>\n",
       "      <td>Mary Poppins</td>\n",
       "      <td>0</td>\n",
       "      <td>0</td>\n",
       "      <td>0</td>\n",
       "      <td>0</td>\n",
       "      <td>0</td>\n",
       "      <td>0</td>\n",
       "      <td>0</td>\n",
       "      <td>...</td>\n",
       "      <td>0</td>\n",
       "      <td>0</td>\n",
       "      <td>0</td>\n",
       "      <td>0</td>\n",
       "      <td>0</td>\n",
       "      <td>0</td>\n",
       "      <td>0</td>\n",
       "      <td>0</td>\n",
       "      <td>0</td>\n",
       "      <td>0</td>\n",
       "    </tr>\n",
       "  </tbody>\n",
       "</table>\n",
       "<p>5 rows × 209 columns</p>\n",
       "</div>"
      ],
      "text/plain": [
       "   wiki_id freebase_id              name  Absurdism  Action  Adult  Adventure  \\\n",
       "0   975900   /m/03vyhn    Ghosts of Mars          0       1      0          1   \n",
       "1  9363483  /m/0285_cd  White Of The Eye          0       0      0          0   \n",
       "2  6631279   /m/0gffwj       Little city          0       0      0          0   \n",
       "3   171005   /m/016ywb           Henry V          0       1      0          0   \n",
       "4    77856    /m/0kcn7      Mary Poppins          0       0      0          0   \n",
       "\n",
       "   Airplanes and airports  Albino bias  Alien Film  ...  Vampire movies  War  \\\n",
       "0                       0            0           0  ...               0    0   \n",
       "1                       0            0           0  ...               0    0   \n",
       "2                       0            0           0  ...               0    0   \n",
       "3                       0            0           0  ...               0    1   \n",
       "4                       0            0           0  ...               0    0   \n",
       "\n",
       "   War film  Werewolf fiction  Western  Whodunit  World cinema  Wuxia  \\\n",
       "0         0                 0        1         0             0      0   \n",
       "1         0                 0        0         0             0      0   \n",
       "2         0                 0        0         0             0      0   \n",
       "3         1                 0        0         0             0      0   \n",
       "4         0                 0        0         0             0      0   \n",
       "\n",
       "   Z movie  Zombie Film  \n",
       "0        0            0  \n",
       "1        0            0  \n",
       "2        0            0  \n",
       "3        0            0  \n",
       "4        0            0  \n",
       "\n",
       "[5 rows x 209 columns]"
      ]
     },
     "execution_count": 10,
     "metadata": {},
     "output_type": "execute_result"
    }
   ],
   "source": [
    "print(len(movies_and_genres_df))\n",
    "movies_and_genres_df.head()"
   ]
  },
  {
   "cell_type": "code",
   "execution_count": 11,
   "metadata": {},
   "outputs": [
    {
     "data": {
      "image/png": "[encoded data removed]",
      "text/plain": [
       "<Figure size 432x288 with 1 Axes>"
      ]
     },
     "metadata": {
      "needs_background": "light"
     },
     "output_type": "display_data"
    }
   ],
   "source": [
    "count = movies_and_genres_df.loc[:,\"Absurdism\":].apply(lambda x: x.value_counts()).iloc[1]\n",
    "\n",
    "count_genres = pd.DataFrame(count.items(), columns=[\"Genre\", \"Count\"])\n",
    "\n",
    "sns.set(rc={'figure.figsize':(20,8.27)})\n",
    "ax = sns.barplot(x=\"Genre\",y= \"Count\",  data=count_genres.sort_values(by=\"Count\", ascending=False).head(15))"
   ]
  },
  {
   "cell_type": "code",
   "execution_count": 12,
   "metadata": {},
   "outputs": [],
   "source": [
    "# Save movies and genres to ../data/MovieSummaries/genres.csv\n",
    "movies_and_genres_df.to_csv(\"../data/MovieSummaries/genres.csv\")"
   ]
  }
 ],
 "metadata": {
  "kernelspec": {
   "display_name": "Python 3.7.13 ('base')",
   "language": "python",
   "name": "python3"
  },
  "language_info": {
   "codemirror_mode": {
    "name": "ipython",
    "version": 3
   },
   "file_extension": ".py",
   "mimetype": "text/x-python",
   "name": "python",
   "nbconvert_exporter": "python",
   "pygments_lexer": "ipython3",
   "version": "3.7.13"
  },
  "orig_nbformat": 4,
  "vscode": {
   "interpreter": {
    "hash": "d4d1e4263499bec80672ea0156c357c1ee493ec2b1c70f0acce89fc37c4a6abe"
   }
  }
 },
 "nbformat": 4,
 "nbformat_minor": 2
}
