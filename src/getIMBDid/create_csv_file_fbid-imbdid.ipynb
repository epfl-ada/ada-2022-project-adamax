{
 "cells": [
  {
   "cell_type": "code",
   "execution_count": 3,
   "metadata": {},
   "outputs": [],
   "source": [
    "import pandas as pd"
   ]
  },
  {
   "cell_type": "code",
   "execution_count": 4,
   "metadata": {},
   "outputs": [],
   "source": [
    "columns = [\"WikiID\", \"FreebaseID\", \"Name\", \"ReleaseDate\", \"BoxOfficeRevenue\", \"Runtime\", \"Language\", \"Country\", \"Genres\"]\n",
    "movies = pd.read_csv('../../data/movie.metadata.tsv', sep='\\t', names=columns, index_col=False)"
   ]
  },
  {
   "cell_type": "code",
   "execution_count": 6,
   "metadata": {},
   "outputs": [],
   "source": [
    "# We retrieve the dicts with the Freebase ids and IMDB ids created in the other files\n",
    "%store -r dict_fbid_to_imbd1\n",
    "%store -r dict_fbid_to_imbd2\n",
    "%store -r dict_fbid_to_imbd3\n",
    "%store -r dict_fbid_to_imbd4\n",
    "%store -r dict_fbid_to_imbd5\n",
    "\n",
    "# We combined the five variables in one dict\n",
    "dict_dbid_to_imbd_all = {**dict_fbid_to_imbd1, **dict_fbid_to_imbd2, **dict_fbid_to_imbd3, **dict_fbid_to_imbd4, **dict_fbid_to_imbd5}"
   ]
  },
  {
   "cell_type": "code",
   "execution_count": 8,
   "metadata": {},
   "outputs": [
    {
     "data": {
      "text/plain": [
       "81741"
      ]
     },
     "execution_count": 8,
     "metadata": {},
     "output_type": "execute_result"
    }
   ],
   "source": [
    "# We create a dict with the FreebaseID and IMDb ids in the same order as in our movies df\n",
    "dict_with_all = {}\n",
    "\n",
    "for m in movies.FreebaseID:\n",
    "    if m in dict_dbid_to_imbd_all.keys():\n",
    "        dict_with_all[m] = dict_dbid_to_imbd_all[m]\n",
    "    else:\n",
    "        dict_with_all[m] = \"\"\n",
    "\n",
    "len(dict_with_all)"
   ]
  },
  {
   "cell_type": "markdown",
   "metadata": {},
   "source": [
    "<h3> Lastly, we create the file .csv with the Freebase ids and IMBD ids related"
   ]
  },
  {
   "cell_type": "code",
   "execution_count": 10,
   "metadata": {},
   "outputs": [],
   "source": [
    "df_fbid_imbd = pd.DataFrame(dict_with_all.items(), columns=[\"FreebaseID\", \"IMBD_ID\"])\n",
    "df_fbid_imbd.to_csv('../../data/MovieSummaries/fbid_imdbdid_finally.csv')"
   ]
  }
 ],
 "metadata": {
  "kernelspec": {
   "display_name": "Python 3.10.8 64-bit (microsoft store)",
   "language": "python",
   "name": "python3"
  },
  "language_info": {
   "codemirror_mode": {
    "name": "ipython",
    "version": 3
   },
   "file_extension": ".py",
   "mimetype": "text/x-python",
   "name": "python",
   "nbconvert_exporter": "python",
   "pygments_lexer": "ipython3",
   "version": "3.10.8"
  },
  "orig_nbformat": 4,
  "vscode": {
   "interpreter": {
    "hash": "a00f3bd909ad80bb2635e40ca9a4aa9d13a48bc7122c9ef0e3e8c740bc40d164"
   }
  }
 },
 "nbformat": 4,
 "nbformat_minor": 2
}
